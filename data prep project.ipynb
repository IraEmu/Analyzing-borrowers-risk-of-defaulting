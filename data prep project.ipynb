{
 "cells": [
  {
   "cell_type": "markdown",
   "metadata": {},
   "source": [
    "# Analyzing borrowers’ risk of defaulting"
   ]
  },
  {
   "cell_type": "markdown",
   "metadata": {},
   "source": [
    "The goal of this project is to prepare a report for a bank’s loan division. Find out if a customer’s marital status and number of children has an impact on whether they will default on a loan. The bank already has some data on customers’ credit worthiness.\n",
    "\n",
    "Report will be considered for building a **credit scoring** of a potential customer, which is used to evaluate the ability of a potential borrower to repay their loan.\n",
    "\n",
    "Main steps:\n",
    "- Preprocess the data\n",
    "- Categorize the data\n",
    "\n",
    "- Answer these questions:\n",
    "-- Is there a connection between having kids and repaying a loan on time?\n",
    "-- Is there a connection between marital status and repaying a loan on time?\n",
    "-- Is there a connection between income level and repaying a loan on time?\n",
    "-- How do different loan purposes affect on-time loan repayment?\n",
    "- Analyze the results"
   ]
  },
  {
   "cell_type": "markdown",
   "metadata": {},
   "source": [
    "# Description of the data"
   ]
  },
  {
   "cell_type": "markdown",
   "metadata": {},
   "source": [
    "`children`: the number of children in the family\n",
    "\n",
    "`days_employed`: how long the customer has been working\n",
    "\n",
    "`dob_years`: the customer’s age\n",
    "\n",
    "`education`: the customer’s education level\n",
    "\n",
    "`education_id`: identifier for the customer’s education\n",
    "\n",
    "`family_status`: the customer’s marital status\n",
    "\n",
    "`family_status_id`: identifier for the customer’s marital status\n",
    "\n",
    "`gender`: the customer’s gender\n",
    "\n",
    "`income_type`: the customer’s income type\n",
    "\n",
    "`debt`: whether the customer has ever defaulted on a loan\n",
    "\n",
    "`total_income`: monthly income\n",
    "\n",
    "`purpose`: reason for taking out a loan"
   ]
  },
  {
   "cell_type": "markdown",
   "metadata": {},
   "source": [
    "## Open the data file and have a look at the general information. "
   ]
  },
  {
   "cell_type": "code",
   "execution_count": 18,
   "metadata": {},
   "outputs": [],
   "source": [
    "import pandas as pd"
   ]
  },
  {
   "cell_type": "code",
   "execution_count": 44,
   "metadata": {},
   "outputs": [],
   "source": [
    "from pymystem3 import Mystem\n",
    "from collections import Counter"
   ]
  },
  {
   "cell_type": "code",
   "execution_count": 19,
   "metadata": {},
   "outputs": [
    {
     "name": "stdout",
     "output_type": "stream",
     "text": [
      "<class 'pandas.core.frame.DataFrame'>\n",
      "RangeIndex: 21525 entries, 0 to 21524\n",
      "Data columns (total 12 columns):\n",
      " #   Column            Non-Null Count  Dtype  \n",
      "---  ------            --------------  -----  \n",
      " 0   children          21525 non-null  int64  \n",
      " 1   days_employed     19351 non-null  float64\n",
      " 2   dob_years         21525 non-null  int64  \n",
      " 3   education         21525 non-null  object \n",
      " 4   education_id      21525 non-null  int64  \n",
      " 5   family_status     21525 non-null  object \n",
      " 6   family_status_id  21525 non-null  int64  \n",
      " 7   gender            21525 non-null  object \n",
      " 8   income_type       21525 non-null  object \n",
      " 9   debt              21525 non-null  int64  \n",
      " 10  total_income      19351 non-null  float64\n",
      " 11  purpose           21525 non-null  object \n",
      "dtypes: float64(2), int64(5), object(5)\n",
      "memory usage: 2.0+ MB\n"
     ]
    },
    {
     "data": {
      "text/html": [
       "<div>\n",
       "<style scoped>\n",
       "    .dataframe tbody tr th:only-of-type {\n",
       "        vertical-align: middle;\n",
       "    }\n",
       "\n",
       "    .dataframe tbody tr th {\n",
       "        vertical-align: top;\n",
       "    }\n",
       "\n",
       "    .dataframe thead th {\n",
       "        text-align: right;\n",
       "    }\n",
       "</style>\n",
       "<table border=\"1\" class=\"dataframe\">\n",
       "  <thead>\n",
       "    <tr style=\"text-align: right;\">\n",
       "      <th></th>\n",
       "      <th>children</th>\n",
       "      <th>days_employed</th>\n",
       "      <th>dob_years</th>\n",
       "      <th>education</th>\n",
       "      <th>education_id</th>\n",
       "      <th>family_status</th>\n",
       "      <th>family_status_id</th>\n",
       "      <th>gender</th>\n",
       "      <th>income_type</th>\n",
       "      <th>debt</th>\n",
       "      <th>total_income</th>\n",
       "      <th>purpose</th>\n",
       "    </tr>\n",
       "  </thead>\n",
       "  <tbody>\n",
       "    <tr>\n",
       "      <th>21515</th>\n",
       "      <td>1</td>\n",
       "      <td>-467.685130</td>\n",
       "      <td>28</td>\n",
       "      <td>secondary education</td>\n",
       "      <td>1</td>\n",
       "      <td>married</td>\n",
       "      <td>0</td>\n",
       "      <td>F</td>\n",
       "      <td>employee</td>\n",
       "      <td>1</td>\n",
       "      <td>17517.812</td>\n",
       "      <td>to become educated</td>\n",
       "    </tr>\n",
       "    <tr>\n",
       "      <th>21516</th>\n",
       "      <td>0</td>\n",
       "      <td>-914.391429</td>\n",
       "      <td>42</td>\n",
       "      <td>bachelor's degree</td>\n",
       "      <td>0</td>\n",
       "      <td>married</td>\n",
       "      <td>0</td>\n",
       "      <td>F</td>\n",
       "      <td>business</td>\n",
       "      <td>0</td>\n",
       "      <td>51649.244</td>\n",
       "      <td>purchase of my own house</td>\n",
       "    </tr>\n",
       "    <tr>\n",
       "      <th>21517</th>\n",
       "      <td>0</td>\n",
       "      <td>-404.679034</td>\n",
       "      <td>42</td>\n",
       "      <td>bachelor's degree</td>\n",
       "      <td>0</td>\n",
       "      <td>civil partnership</td>\n",
       "      <td>1</td>\n",
       "      <td>F</td>\n",
       "      <td>business</td>\n",
       "      <td>0</td>\n",
       "      <td>28489.529</td>\n",
       "      <td>buying my own car</td>\n",
       "    </tr>\n",
       "    <tr>\n",
       "      <th>21518</th>\n",
       "      <td>0</td>\n",
       "      <td>373995.710838</td>\n",
       "      <td>59</td>\n",
       "      <td>SECONDARY EDUCATION</td>\n",
       "      <td>1</td>\n",
       "      <td>married</td>\n",
       "      <td>0</td>\n",
       "      <td>F</td>\n",
       "      <td>retiree</td>\n",
       "      <td>0</td>\n",
       "      <td>24618.344</td>\n",
       "      <td>purchase of a car</td>\n",
       "    </tr>\n",
       "    <tr>\n",
       "      <th>21519</th>\n",
       "      <td>1</td>\n",
       "      <td>-2351.431934</td>\n",
       "      <td>37</td>\n",
       "      <td>graduate degree</td>\n",
       "      <td>4</td>\n",
       "      <td>divorced</td>\n",
       "      <td>3</td>\n",
       "      <td>M</td>\n",
       "      <td>employee</td>\n",
       "      <td>0</td>\n",
       "      <td>18551.846</td>\n",
       "      <td>buy commercial real estate</td>\n",
       "    </tr>\n",
       "    <tr>\n",
       "      <th>21520</th>\n",
       "      <td>1</td>\n",
       "      <td>-4529.316663</td>\n",
       "      <td>43</td>\n",
       "      <td>secondary education</td>\n",
       "      <td>1</td>\n",
       "      <td>civil partnership</td>\n",
       "      <td>1</td>\n",
       "      <td>F</td>\n",
       "      <td>business</td>\n",
       "      <td>0</td>\n",
       "      <td>35966.698</td>\n",
       "      <td>housing transactions</td>\n",
       "    </tr>\n",
       "    <tr>\n",
       "      <th>21521</th>\n",
       "      <td>0</td>\n",
       "      <td>343937.404131</td>\n",
       "      <td>67</td>\n",
       "      <td>secondary education</td>\n",
       "      <td>1</td>\n",
       "      <td>married</td>\n",
       "      <td>0</td>\n",
       "      <td>F</td>\n",
       "      <td>retiree</td>\n",
       "      <td>0</td>\n",
       "      <td>24959.969</td>\n",
       "      <td>purchase of a car</td>\n",
       "    </tr>\n",
       "    <tr>\n",
       "      <th>21522</th>\n",
       "      <td>1</td>\n",
       "      <td>-2113.346888</td>\n",
       "      <td>38</td>\n",
       "      <td>secondary education</td>\n",
       "      <td>1</td>\n",
       "      <td>civil partnership</td>\n",
       "      <td>1</td>\n",
       "      <td>M</td>\n",
       "      <td>employee</td>\n",
       "      <td>1</td>\n",
       "      <td>14347.610</td>\n",
       "      <td>property</td>\n",
       "    </tr>\n",
       "    <tr>\n",
       "      <th>21523</th>\n",
       "      <td>3</td>\n",
       "      <td>-3112.481705</td>\n",
       "      <td>38</td>\n",
       "      <td>secondary education</td>\n",
       "      <td>1</td>\n",
       "      <td>married</td>\n",
       "      <td>0</td>\n",
       "      <td>M</td>\n",
       "      <td>employee</td>\n",
       "      <td>1</td>\n",
       "      <td>39054.888</td>\n",
       "      <td>buying my own car</td>\n",
       "    </tr>\n",
       "    <tr>\n",
       "      <th>21524</th>\n",
       "      <td>2</td>\n",
       "      <td>-1984.507589</td>\n",
       "      <td>40</td>\n",
       "      <td>secondary education</td>\n",
       "      <td>1</td>\n",
       "      <td>married</td>\n",
       "      <td>0</td>\n",
       "      <td>F</td>\n",
       "      <td>employee</td>\n",
       "      <td>0</td>\n",
       "      <td>13127.587</td>\n",
       "      <td>to buy a car</td>\n",
       "    </tr>\n",
       "  </tbody>\n",
       "</table>\n",
       "</div>"
      ],
      "text/plain": [
       "       children  days_employed  dob_years            education  education_id  \\\n",
       "21515         1    -467.685130         28  secondary education             1   \n",
       "21516         0    -914.391429         42    bachelor's degree             0   \n",
       "21517         0    -404.679034         42    bachelor's degree             0   \n",
       "21518         0  373995.710838         59  SECONDARY EDUCATION             1   \n",
       "21519         1   -2351.431934         37      graduate degree             4   \n",
       "21520         1   -4529.316663         43  secondary education             1   \n",
       "21521         0  343937.404131         67  secondary education             1   \n",
       "21522         1   -2113.346888         38  secondary education             1   \n",
       "21523         3   -3112.481705         38  secondary education             1   \n",
       "21524         2   -1984.507589         40  secondary education             1   \n",
       "\n",
       "           family_status  family_status_id gender income_type  debt  \\\n",
       "21515            married                 0      F    employee     1   \n",
       "21516            married                 0      F    business     0   \n",
       "21517  civil partnership                 1      F    business     0   \n",
       "21518            married                 0      F     retiree     0   \n",
       "21519           divorced                 3      M    employee     0   \n",
       "21520  civil partnership                 1      F    business     0   \n",
       "21521            married                 0      F     retiree     0   \n",
       "21522  civil partnership                 1      M    employee     1   \n",
       "21523            married                 0      M    employee     1   \n",
       "21524            married                 0      F    employee     0   \n",
       "\n",
       "       total_income                     purpose  \n",
       "21515     17517.812          to become educated  \n",
       "21516     51649.244    purchase of my own house  \n",
       "21517     28489.529           buying my own car  \n",
       "21518     24618.344           purchase of a car  \n",
       "21519     18551.846  buy commercial real estate  \n",
       "21520     35966.698        housing transactions  \n",
       "21521     24959.969           purchase of a car  \n",
       "21522     14347.610                    property  \n",
       "21523     39054.888           buying my own car  \n",
       "21524     13127.587                to buy a car  "
      ]
     },
     "execution_count": 19,
     "metadata": {},
     "output_type": "execute_result"
    }
   ],
   "source": [
    "df = pd.read_csv('https://code.s3.yandex.net/datasets/credit_scoring_eng.csv')\n",
    "\n",
    "df.info()\n",
    "df.tail(10)"
   ]
  },
  {
   "cell_type": "markdown",
   "metadata": {},
   "source": [
    "### Conclusion"
   ]
  },
  {
   "cell_type": "markdown",
   "metadata": {},
   "source": [
    "By .info method we can see that columns 'days_employed' and 'total_income' have missing values (same amount; +2000) Missing values are quantitative. Both columns have correct data type - float64, suitable for future calculation. By printing head or tail of data, we can see that column 'days_employed' has negative rows, we need to check why. Information in 'purpose' is not standartized. Column 'education' conations different letters - lower/upper case. "
   ]
  },
  {
   "cell_type": "markdown",
   "metadata": {},
   "source": [
    "## Data preprocessing"
   ]
  },
  {
   "cell_type": "markdown",
   "metadata": {},
   "source": [
    "### Processing missing values"
   ]
  },
  {
   "cell_type": "code",
   "execution_count": 20,
   "metadata": {},
   "outputs": [
    {
     "data": {
      "text/plain": [
       "2194.220566878695"
      ]
     },
     "execution_count": 20,
     "metadata": {},
     "output_type": "execute_result"
    }
   ],
   "source": [
    "df['days_employed'] = abs(df['days_employed'])\n",
    "\n",
    "DE_mean = df['days_employed'].mean()\n",
    "DE_median = df['days_employed'].median()\n",
    "\n",
    "\n",
    "TI_mean = df['total_income'].mean()\n",
    "TI_median = df['total_income'].median()\n",
    "DE_median"
   ]
  },
  {
   "cell_type": "code",
   "execution_count": 21,
   "metadata": {},
   "outputs": [
    {
     "name": "stdout",
     "output_type": "stream",
     "text": [
      "<class 'pandas.core.frame.DataFrame'>\n",
      "RangeIndex: 21525 entries, 0 to 21524\n",
      "Data columns (total 12 columns):\n",
      " #   Column            Non-Null Count  Dtype  \n",
      "---  ------            --------------  -----  \n",
      " 0   children          21525 non-null  int64  \n",
      " 1   days_employed     21525 non-null  float64\n",
      " 2   dob_years         21525 non-null  int64  \n",
      " 3   education         21525 non-null  object \n",
      " 4   education_id      21525 non-null  int64  \n",
      " 5   family_status     21525 non-null  object \n",
      " 6   family_status_id  21525 non-null  int64  \n",
      " 7   gender            21525 non-null  object \n",
      " 8   income_type       21525 non-null  object \n",
      " 9   debt              21525 non-null  int64  \n",
      " 10  total_income      21525 non-null  float64\n",
      " 11  purpose           21525 non-null  object \n",
      "dtypes: float64(2), int64(5), object(5)\n",
      "memory usage: 2.0+ MB\n",
      "None\n"
     ]
    }
   ],
   "source": [
    "df['days_employed'].fillna(value = DE_median,inplace = True)\n",
    "df['total_income'].fillna(value = TI_mean,inplace = True)\n",
    "\n",
    "print(df.info())"
   ]
  },
  {
   "cell_type": "markdown",
   "metadata": {},
   "source": [
    "### Conclusion"
   ]
  },
  {
   "cell_type": "markdown",
   "metadata": {},
   "source": [
    "As both missing values are qualitative, we can replace them with mean or medium values.  There is no big difference in them in column 'total_income', so we can apply mean. For ''days_employed' column, firstly we have to remove negative values, as it's impossible meaning for the column. \n",
    "'Median' is equal 6 years, which is possible meaning for all ages (mostly at least). \n",
    "if more detailed - Then we still have unasseptible values - like max of ~ ~ 401 thousand working 'days_employed' (equal 183 years, which is much bigger than all options in column 'ages'.\n",
    "we can convert days to ages, compare with 'ages', when it's higher - substruct childhood (~14/16), then calculate mean. \n",
    "\n",
    "Rows with missing values are equal for both columns, categoies in other columns - vary. Possible reason for missing values is that these numbers were taken from official sources - papers or databases, so people with empty positions just didn't provide this information."
   ]
  },
  {
   "cell_type": "markdown",
   "metadata": {},
   "source": [
    "### Data type replacement"
   ]
  },
  {
   "cell_type": "code",
   "execution_count": 22,
   "metadata": {},
   "outputs": [
    {
     "name": "stdout",
     "output_type": "stream",
     "text": [
      "<class 'pandas.core.frame.DataFrame'>\n",
      "RangeIndex: 21525 entries, 0 to 21524\n",
      "Data columns (total 12 columns):\n",
      " #   Column            Non-Null Count  Dtype  \n",
      "---  ------            --------------  -----  \n",
      " 0   children          21525 non-null  int64  \n",
      " 1   days_employed     21525 non-null  int64  \n",
      " 2   dob_years         21525 non-null  int64  \n",
      " 3   education         21525 non-null  object \n",
      " 4   education_id      21525 non-null  int64  \n",
      " 5   family_status     21525 non-null  object \n",
      " 6   family_status_id  21525 non-null  int64  \n",
      " 7   gender            21525 non-null  object \n",
      " 8   income_type       21525 non-null  object \n",
      " 9   debt              21525 non-null  int64  \n",
      " 10  total_income      21525 non-null  float64\n",
      " 11  purpose           21525 non-null  object \n",
      "dtypes: float64(1), int64(6), object(5)\n",
      "memory usage: 2.0+ MB\n"
     ]
    }
   ],
   "source": [
    "df['days_employed'] = df['days_employed'].astype('int')\n",
    "\n",
    "df.info()"
   ]
  },
  {
   "cell_type": "markdown",
   "metadata": {},
   "source": [
    "### Conclusion"
   ]
  },
  {
   "cell_type": "markdown",
   "metadata": {},
   "source": [
    "Number of days employed should be Integral, so we have to convert it."
   ]
  },
  {
   "cell_type": "markdown",
   "metadata": {},
   "source": [
    "### Processing duplicates"
   ]
  },
  {
   "cell_type": "code",
   "execution_count": 23,
   "metadata": {},
   "outputs": [
    {
     "data": {
      "text/plain": [
       "26787.568355    2174\n",
       "31791.384000       2\n",
       "42413.096000       2\n",
       "17312.717000       2\n",
       "22435.069000       1\n",
       "                ... \n",
       "27715.458000       1\n",
       "23834.534000       1\n",
       "26124.613000       1\n",
       "28692.182000       1\n",
       "41428.916000       1\n",
       "Name: total_income, Length: 19349, dtype: int64"
      ]
     },
     "execution_count": 23,
     "metadata": {},
     "output_type": "execute_result"
    }
   ],
   "source": [
    "df['total_income'].value_counts()"
   ]
  },
  {
   "cell_type": "markdown",
   "metadata": {},
   "source": [
    "### Conclusion"
   ]
  },
  {
   "cell_type": "markdown",
   "metadata": {},
   "source": [
    "We don't have any column as ID or any other personal identification, so it's impossible to identify real duplicates. From the most \"personal\" column, 'total_income' we see three numbers, which repeated twice (other columns are different for them, so it's not a duplicates. And huge group of 2174 positions with equal total imcome is a missing positions, which were filled with average value.\n"
   ]
  },
  {
   "cell_type": "markdown",
   "metadata": {},
   "source": [
    "### Categorizing Data"
   ]
  },
  {
   "cell_type": "code",
   "execution_count": 26,
   "metadata": {},
   "outputs": [
    {
     "name": "stdout",
     "output_type": "stream",
     "text": [
      "0     14149\n",
      "1      4865\n",
      "2      2055\n",
      "3       330\n",
      "20       76\n",
      "4        41\n",
      "5         9\n",
      "Name: children, dtype: int64\n",
      "\n",
      "married              12380\n",
      "civil partnership     4177\n",
      "unmarried             2813\n",
      "divorced              1195\n",
      "widow / widower        960\n",
      "Name: family_status, dtype: int64\n"
     ]
    }
   ],
   "source": [
    "df['children'] = abs(df['children'])\n",
    "print(df['children'].value_counts())\n",
    "print()\n",
    "print(df['family_status'].value_counts())"
   ]
  },
  {
   "cell_type": "code",
   "execution_count": 27,
   "metadata": {},
   "outputs": [],
   "source": [
    "def status_category (row):\n",
    "    status = row['family_status_id']\n",
    "    children = row['children']\n",
    "\n",
    "    if status < 2:\n",
    "        if children > 0:\n",
    "            return 'couple_with'\n",
    "    if status < 2:\n",
    "        if children <= 0:\n",
    "            return 'couple_zero'\n",
    "    if status > 2:\n",
    "        if children > 0:\n",
    "            return 'single_with'\n",
    "    return 'single_zero'"
   ]
  },
  {
   "cell_type": "code",
   "execution_count": 28,
   "metadata": {},
   "outputs": [],
   "source": [
    "df['status_categorization'] = df.apply(status_category, axis=1)"
   ]
  },
  {
   "cell_type": "code",
   "execution_count": 29,
   "metadata": {},
   "outputs": [
    {
     "name": "stdout",
     "output_type": "stream",
     "text": [
      "                        debt\n",
      "status_categorization       \n",
      "couple_with             6305\n",
      "couple_zero            10252\n",
      "single_with              959\n",
      "single_zero             4009\n",
      "\n",
      "                       debt\n",
      "status_categorization      \n",
      "couple_with             574\n",
      "couple_zero             745\n",
      "single_with              94\n",
      "single_zero             328\n"
     ]
    }
   ],
   "source": [
    "df_pivot_1 = df.pivot_table(index='status_categorization', values='debt', aggfunc='count')\n",
    "df_pivot_2 = df.pivot_table(index='status_categorization', values='debt', aggfunc='sum')\n",
    "\n",
    "print(df_pivot_1)\n",
    "print()\n",
    "print(df_pivot_2)"
   ]
  },
  {
   "cell_type": "code",
   "execution_count": 30,
   "metadata": {},
   "outputs": [
    {
     "data": {
      "text/html": [
       "<div>\n",
       "<style scoped>\n",
       "    .dataframe tbody tr th:only-of-type {\n",
       "        vertical-align: middle;\n",
       "    }\n",
       "\n",
       "    .dataframe tbody tr th {\n",
       "        vertical-align: top;\n",
       "    }\n",
       "\n",
       "    .dataframe thead th {\n",
       "        text-align: right;\n",
       "    }\n",
       "</style>\n",
       "<table border=\"1\" class=\"dataframe\">\n",
       "  <thead>\n",
       "    <tr style=\"text-align: right;\">\n",
       "      <th>family_status</th>\n",
       "      <th>civil partnership</th>\n",
       "      <th>divorced</th>\n",
       "      <th>married</th>\n",
       "      <th>unmarried</th>\n",
       "      <th>widow / widower</th>\n",
       "    </tr>\n",
       "    <tr>\n",
       "      <th>children</th>\n",
       "      <th></th>\n",
       "      <th></th>\n",
       "      <th></th>\n",
       "      <th></th>\n",
       "      <th></th>\n",
       "    </tr>\n",
       "  </thead>\n",
       "  <tbody>\n",
       "    <tr>\n",
       "      <th>0</th>\n",
       "      <td>229.0</td>\n",
       "      <td>55.0</td>\n",
       "      <td>516.0</td>\n",
       "      <td>210.0</td>\n",
       "      <td>53.0</td>\n",
       "    </tr>\n",
       "    <tr>\n",
       "      <th>1</th>\n",
       "      <td>118.0</td>\n",
       "      <td>21.0</td>\n",
       "      <td>247.0</td>\n",
       "      <td>52.0</td>\n",
       "      <td>7.0</td>\n",
       "    </tr>\n",
       "    <tr>\n",
       "      <th>2</th>\n",
       "      <td>30.0</td>\n",
       "      <td>7.0</td>\n",
       "      <td>145.0</td>\n",
       "      <td>9.0</td>\n",
       "      <td>3.0</td>\n",
       "    </tr>\n",
       "    <tr>\n",
       "      <th>3</th>\n",
       "      <td>8.0</td>\n",
       "      <td>1.0</td>\n",
       "      <td>17.0</td>\n",
       "      <td>1.0</td>\n",
       "      <td>0.0</td>\n",
       "    </tr>\n",
       "    <tr>\n",
       "      <th>4</th>\n",
       "      <td>0.0</td>\n",
       "      <td>0.0</td>\n",
       "      <td>3.0</td>\n",
       "      <td>1.0</td>\n",
       "      <td>0.0</td>\n",
       "    </tr>\n",
       "    <tr>\n",
       "      <th>5</th>\n",
       "      <td>0.0</td>\n",
       "      <td>NaN</td>\n",
       "      <td>0.0</td>\n",
       "      <td>NaN</td>\n",
       "      <td>NaN</td>\n",
       "    </tr>\n",
       "    <tr>\n",
       "      <th>20</th>\n",
       "      <td>3.0</td>\n",
       "      <td>1.0</td>\n",
       "      <td>3.0</td>\n",
       "      <td>1.0</td>\n",
       "      <td>0.0</td>\n",
       "    </tr>\n",
       "  </tbody>\n",
       "</table>\n",
       "</div>"
      ],
      "text/plain": [
       "family_status  civil partnership  divorced  married  unmarried  \\\n",
       "children                                                         \n",
       "0                          229.0      55.0    516.0      210.0   \n",
       "1                          118.0      21.0    247.0       52.0   \n",
       "2                           30.0       7.0    145.0        9.0   \n",
       "3                            8.0       1.0     17.0        1.0   \n",
       "4                            0.0       0.0      3.0        1.0   \n",
       "5                            0.0       NaN      0.0        NaN   \n",
       "20                           3.0       1.0      3.0        1.0   \n",
       "\n",
       "family_status  widow / widower  \n",
       "children                        \n",
       "0                         53.0  \n",
       "1                          7.0  \n",
       "2                          3.0  \n",
       "3                          0.0  \n",
       "4                          0.0  \n",
       "5                          NaN  \n",
       "20                         0.0  "
      ]
     },
     "execution_count": 30,
     "metadata": {},
     "output_type": "execute_result"
    }
   ],
   "source": [
    "df_pivot_new = df.pivot_table(index='children', columns='family_status', values='debt', aggfunc='sum')\n",
    "df_pivot_new"
   ]
  },
  {
   "cell_type": "markdown",
   "metadata": {},
   "source": [
    "### Conclusion"
   ]
  },
  {
   "cell_type": "markdown",
   "metadata": {},
   "source": [
    "Column 'children' has -1 and 20 values, which shouldn't be in it. We replace -1 with 1 and just just leave 20 as they take much less than 1% of data, plus not important for catigorization.\n",
    "From first 2 pivot tables we can see that there is no clear dependance on singe person or have couple or with children or not, relationship between having debt vary on 1-2 % from total."
   ]
  },
  {
   "cell_type": "markdown",
   "metadata": {},
   "source": [
    "## Answer these questions"
   ]
  },
  {
   "cell_type": "markdown",
   "metadata": {},
   "source": [
    "- Is there a relation between having kids and repaying a loan on time?"
   ]
  },
  {
   "cell_type": "code",
   "execution_count": 32,
   "metadata": {},
   "outputs": [],
   "source": [
    "df_pivot_family = df.pivot_table(index='children', columns = 'family_status', values='debt', aggfunc='sum')\n",
    "df_pivot_family2 = df.pivot_table(index='children', columns = 'family_status', values='debt', aggfunc='count')"
   ]
  },
  {
   "cell_type": "code",
   "execution_count": 33,
   "metadata": {
    "scrolled": true
   },
   "outputs": [
    {
     "data": {
      "text/html": [
       "<div>\n",
       "<style scoped>\n",
       "    .dataframe tbody tr th:only-of-type {\n",
       "        vertical-align: middle;\n",
       "    }\n",
       "\n",
       "    .dataframe tbody tr th {\n",
       "        vertical-align: top;\n",
       "    }\n",
       "\n",
       "    .dataframe thead th {\n",
       "        text-align: right;\n",
       "    }\n",
       "</style>\n",
       "<table border=\"1\" class=\"dataframe\">\n",
       "  <thead>\n",
       "    <tr style=\"text-align: right;\">\n",
       "      <th>family_status</th>\n",
       "      <th>civil partnership</th>\n",
       "      <th>divorced</th>\n",
       "      <th>married</th>\n",
       "      <th>unmarried</th>\n",
       "      <th>widow / widower</th>\n",
       "    </tr>\n",
       "    <tr>\n",
       "      <th>children</th>\n",
       "      <th></th>\n",
       "      <th></th>\n",
       "      <th></th>\n",
       "      <th></th>\n",
       "      <th></th>\n",
       "    </tr>\n",
       "  </thead>\n",
       "  <tbody>\n",
       "    <tr>\n",
       "      <th>0</th>\n",
       "      <td>229.0</td>\n",
       "      <td>55.0</td>\n",
       "      <td>516.0</td>\n",
       "      <td>210.0</td>\n",
       "      <td>53.0</td>\n",
       "    </tr>\n",
       "    <tr>\n",
       "      <th>1</th>\n",
       "      <td>118.0</td>\n",
       "      <td>21.0</td>\n",
       "      <td>247.0</td>\n",
       "      <td>52.0</td>\n",
       "      <td>7.0</td>\n",
       "    </tr>\n",
       "    <tr>\n",
       "      <th>2</th>\n",
       "      <td>30.0</td>\n",
       "      <td>7.0</td>\n",
       "      <td>145.0</td>\n",
       "      <td>9.0</td>\n",
       "      <td>3.0</td>\n",
       "    </tr>\n",
       "    <tr>\n",
       "      <th>3</th>\n",
       "      <td>8.0</td>\n",
       "      <td>1.0</td>\n",
       "      <td>17.0</td>\n",
       "      <td>1.0</td>\n",
       "      <td>0.0</td>\n",
       "    </tr>\n",
       "    <tr>\n",
       "      <th>4</th>\n",
       "      <td>0.0</td>\n",
       "      <td>0.0</td>\n",
       "      <td>3.0</td>\n",
       "      <td>1.0</td>\n",
       "      <td>0.0</td>\n",
       "    </tr>\n",
       "    <tr>\n",
       "      <th>5</th>\n",
       "      <td>0.0</td>\n",
       "      <td>NaN</td>\n",
       "      <td>0.0</td>\n",
       "      <td>NaN</td>\n",
       "      <td>NaN</td>\n",
       "    </tr>\n",
       "    <tr>\n",
       "      <th>20</th>\n",
       "      <td>3.0</td>\n",
       "      <td>1.0</td>\n",
       "      <td>3.0</td>\n",
       "      <td>1.0</td>\n",
       "      <td>0.0</td>\n",
       "    </tr>\n",
       "  </tbody>\n",
       "</table>\n",
       "</div>"
      ],
      "text/plain": [
       "family_status  civil partnership  divorced  married  unmarried  \\\n",
       "children                                                         \n",
       "0                          229.0      55.0    516.0      210.0   \n",
       "1                          118.0      21.0    247.0       52.0   \n",
       "2                           30.0       7.0    145.0        9.0   \n",
       "3                            8.0       1.0     17.0        1.0   \n",
       "4                            0.0       0.0      3.0        1.0   \n",
       "5                            0.0       NaN      0.0        NaN   \n",
       "20                           3.0       1.0      3.0        1.0   \n",
       "\n",
       "family_status  widow / widower  \n",
       "children                        \n",
       "0                         53.0  \n",
       "1                          7.0  \n",
       "2                          3.0  \n",
       "3                          0.0  \n",
       "4                          0.0  \n",
       "5                          NaN  \n",
       "20                         0.0  "
      ]
     },
     "execution_count": 33,
     "metadata": {},
     "output_type": "execute_result"
    }
   ],
   "source": [
    "df_pivot_family"
   ]
  },
  {
   "cell_type": "code",
   "execution_count": 34,
   "metadata": {},
   "outputs": [
    {
     "data": {
      "text/html": [
       "<div>\n",
       "<style scoped>\n",
       "    .dataframe tbody tr th:only-of-type {\n",
       "        vertical-align: middle;\n",
       "    }\n",
       "\n",
       "    .dataframe tbody tr th {\n",
       "        vertical-align: top;\n",
       "    }\n",
       "\n",
       "    .dataframe thead th {\n",
       "        text-align: right;\n",
       "    }\n",
       "</style>\n",
       "<table border=\"1\" class=\"dataframe\">\n",
       "  <thead>\n",
       "    <tr style=\"text-align: right;\">\n",
       "      <th>family_status</th>\n",
       "      <th>civil partnership</th>\n",
       "      <th>divorced</th>\n",
       "      <th>married</th>\n",
       "      <th>unmarried</th>\n",
       "      <th>widow / widower</th>\n",
       "    </tr>\n",
       "    <tr>\n",
       "      <th>children</th>\n",
       "      <th></th>\n",
       "      <th></th>\n",
       "      <th></th>\n",
       "      <th></th>\n",
       "      <th></th>\n",
       "    </tr>\n",
       "  </thead>\n",
       "  <tbody>\n",
       "    <tr>\n",
       "      <th>0</th>\n",
       "      <td>2752.0</td>\n",
       "      <td>784.0</td>\n",
       "      <td>7500.0</td>\n",
       "      <td>2265.0</td>\n",
       "      <td>848.0</td>\n",
       "    </tr>\n",
       "    <tr>\n",
       "      <th>1</th>\n",
       "      <td>1003.0</td>\n",
       "      <td>316.0</td>\n",
       "      <td>3011.0</td>\n",
       "      <td>454.0</td>\n",
       "      <td>81.0</td>\n",
       "    </tr>\n",
       "    <tr>\n",
       "      <th>2</th>\n",
       "      <td>344.0</td>\n",
       "      <td>81.0</td>\n",
       "      <td>1535.0</td>\n",
       "      <td>75.0</td>\n",
       "      <td>20.0</td>\n",
       "    </tr>\n",
       "    <tr>\n",
       "      <th>3</th>\n",
       "      <td>56.0</td>\n",
       "      <td>11.0</td>\n",
       "      <td>249.0</td>\n",
       "      <td>8.0</td>\n",
       "      <td>6.0</td>\n",
       "    </tr>\n",
       "    <tr>\n",
       "      <th>4</th>\n",
       "      <td>8.0</td>\n",
       "      <td>1.0</td>\n",
       "      <td>29.0</td>\n",
       "      <td>2.0</td>\n",
       "      <td>1.0</td>\n",
       "    </tr>\n",
       "    <tr>\n",
       "      <th>5</th>\n",
       "      <td>2.0</td>\n",
       "      <td>NaN</td>\n",
       "      <td>7.0</td>\n",
       "      <td>NaN</td>\n",
       "      <td>NaN</td>\n",
       "    </tr>\n",
       "    <tr>\n",
       "      <th>20</th>\n",
       "      <td>12.0</td>\n",
       "      <td>2.0</td>\n",
       "      <td>49.0</td>\n",
       "      <td>9.0</td>\n",
       "      <td>4.0</td>\n",
       "    </tr>\n",
       "  </tbody>\n",
       "</table>\n",
       "</div>"
      ],
      "text/plain": [
       "family_status  civil partnership  divorced  married  unmarried  \\\n",
       "children                                                         \n",
       "0                         2752.0     784.0   7500.0     2265.0   \n",
       "1                         1003.0     316.0   3011.0      454.0   \n",
       "2                          344.0      81.0   1535.0       75.0   \n",
       "3                           56.0      11.0    249.0        8.0   \n",
       "4                            8.0       1.0     29.0        2.0   \n",
       "5                            2.0       NaN      7.0        NaN   \n",
       "20                          12.0       2.0     49.0        9.0   \n",
       "\n",
       "family_status  widow / widower  \n",
       "children                        \n",
       "0                        848.0  \n",
       "1                         81.0  \n",
       "2                         20.0  \n",
       "3                          6.0  \n",
       "4                          1.0  \n",
       "5                          NaN  \n",
       "20                         4.0  "
      ]
     },
     "execution_count": 34,
     "metadata": {},
     "output_type": "execute_result"
    }
   ],
   "source": [
    "df_pivot_family2"
   ]
  },
  {
   "cell_type": "code",
   "execution_count": 35,
   "metadata": {},
   "outputs": [
    {
     "data": {
      "text/html": [
       "<div>\n",
       "<style scoped>\n",
       "    .dataframe tbody tr th:only-of-type {\n",
       "        vertical-align: middle;\n",
       "    }\n",
       "\n",
       "    .dataframe tbody tr th {\n",
       "        vertical-align: top;\n",
       "    }\n",
       "\n",
       "    .dataframe thead th {\n",
       "        text-align: right;\n",
       "    }\n",
       "</style>\n",
       "<table border=\"1\" class=\"dataframe\">\n",
       "  <thead>\n",
       "    <tr style=\"text-align: right;\">\n",
       "      <th>family_status</th>\n",
       "      <th>civil partnership</th>\n",
       "      <th>divorced</th>\n",
       "      <th>married</th>\n",
       "      <th>unmarried</th>\n",
       "      <th>widow / widower</th>\n",
       "    </tr>\n",
       "    <tr>\n",
       "      <th>children</th>\n",
       "      <th></th>\n",
       "      <th></th>\n",
       "      <th></th>\n",
       "      <th></th>\n",
       "      <th></th>\n",
       "    </tr>\n",
       "  </thead>\n",
       "  <tbody>\n",
       "    <tr>\n",
       "      <th>0</th>\n",
       "      <td>0.083212</td>\n",
       "      <td>0.070153</td>\n",
       "      <td>0.068800</td>\n",
       "      <td>0.092715</td>\n",
       "      <td>0.06250</td>\n",
       "    </tr>\n",
       "    <tr>\n",
       "      <th>1</th>\n",
       "      <td>0.117647</td>\n",
       "      <td>0.066456</td>\n",
       "      <td>0.082033</td>\n",
       "      <td>0.114537</td>\n",
       "      <td>0.08642</td>\n",
       "    </tr>\n",
       "    <tr>\n",
       "      <th>2</th>\n",
       "      <td>0.087209</td>\n",
       "      <td>0.086420</td>\n",
       "      <td>0.094463</td>\n",
       "      <td>0.120000</td>\n",
       "      <td>0.15000</td>\n",
       "    </tr>\n",
       "    <tr>\n",
       "      <th>3</th>\n",
       "      <td>0.142857</td>\n",
       "      <td>0.090909</td>\n",
       "      <td>0.068273</td>\n",
       "      <td>0.125000</td>\n",
       "      <td>0.00000</td>\n",
       "    </tr>\n",
       "    <tr>\n",
       "      <th>4</th>\n",
       "      <td>0.000000</td>\n",
       "      <td>0.000000</td>\n",
       "      <td>0.103448</td>\n",
       "      <td>0.500000</td>\n",
       "      <td>0.00000</td>\n",
       "    </tr>\n",
       "    <tr>\n",
       "      <th>5</th>\n",
       "      <td>0.000000</td>\n",
       "      <td>NaN</td>\n",
       "      <td>0.000000</td>\n",
       "      <td>NaN</td>\n",
       "      <td>NaN</td>\n",
       "    </tr>\n",
       "    <tr>\n",
       "      <th>20</th>\n",
       "      <td>0.250000</td>\n",
       "      <td>0.500000</td>\n",
       "      <td>0.061224</td>\n",
       "      <td>0.111111</td>\n",
       "      <td>0.00000</td>\n",
       "    </tr>\n",
       "  </tbody>\n",
       "</table>\n",
       "</div>"
      ],
      "text/plain": [
       "family_status  civil partnership  divorced   married  unmarried  \\\n",
       "children                                                          \n",
       "0                       0.083212  0.070153  0.068800   0.092715   \n",
       "1                       0.117647  0.066456  0.082033   0.114537   \n",
       "2                       0.087209  0.086420  0.094463   0.120000   \n",
       "3                       0.142857  0.090909  0.068273   0.125000   \n",
       "4                       0.000000  0.000000  0.103448   0.500000   \n",
       "5                       0.000000       NaN  0.000000        NaN   \n",
       "20                      0.250000  0.500000  0.061224   0.111111   \n",
       "\n",
       "family_status  widow / widower  \n",
       "children                        \n",
       "0                      0.06250  \n",
       "1                      0.08642  \n",
       "2                      0.15000  \n",
       "3                      0.00000  \n",
       "4                      0.00000  \n",
       "5                          NaN  \n",
       "20                     0.00000  "
      ]
     },
     "execution_count": 35,
     "metadata": {},
     "output_type": "execute_result"
    }
   ],
   "source": [
    "pivot_fin  = df_pivot_family/df_pivot_family2\n",
    "pivot_fin"
   ]
  },
  {
   "cell_type": "code",
   "execution_count": 36,
   "metadata": {},
   "outputs": [],
   "source": [
    "df_pivot_ch = df.pivot_table(index='children', values='debt', aggfunc='sum')\n",
    "df_pivot_ch2 = df.pivot_table(index='children', values='debt', aggfunc='count')\n",
    "pivot_ch_fin  = df_pivot_ch/df_pivot_ch2"
   ]
  },
  {
   "cell_type": "code",
   "execution_count": 37,
   "metadata": {},
   "outputs": [
    {
     "data": {
      "text/html": [
       "<div>\n",
       "<style scoped>\n",
       "    .dataframe tbody tr th:only-of-type {\n",
       "        vertical-align: middle;\n",
       "    }\n",
       "\n",
       "    .dataframe tbody tr th {\n",
       "        vertical-align: top;\n",
       "    }\n",
       "\n",
       "    .dataframe thead th {\n",
       "        text-align: right;\n",
       "    }\n",
       "</style>\n",
       "<table border=\"1\" class=\"dataframe\">\n",
       "  <thead>\n",
       "    <tr style=\"text-align: right;\">\n",
       "      <th></th>\n",
       "      <th>debt</th>\n",
       "    </tr>\n",
       "    <tr>\n",
       "      <th>children</th>\n",
       "      <th></th>\n",
       "    </tr>\n",
       "  </thead>\n",
       "  <tbody>\n",
       "    <tr>\n",
       "      <th>0</th>\n",
       "      <td>0.075129</td>\n",
       "    </tr>\n",
       "    <tr>\n",
       "      <th>1</th>\n",
       "      <td>0.091470</td>\n",
       "    </tr>\n",
       "    <tr>\n",
       "      <th>2</th>\n",
       "      <td>0.094404</td>\n",
       "    </tr>\n",
       "    <tr>\n",
       "      <th>3</th>\n",
       "      <td>0.081818</td>\n",
       "    </tr>\n",
       "    <tr>\n",
       "      <th>4</th>\n",
       "      <td>0.097561</td>\n",
       "    </tr>\n",
       "    <tr>\n",
       "      <th>5</th>\n",
       "      <td>0.000000</td>\n",
       "    </tr>\n",
       "    <tr>\n",
       "      <th>20</th>\n",
       "      <td>0.105263</td>\n",
       "    </tr>\n",
       "  </tbody>\n",
       "</table>\n",
       "</div>"
      ],
      "text/plain": [
       "              debt\n",
       "children          \n",
       "0         0.075129\n",
       "1         0.091470\n",
       "2         0.094404\n",
       "3         0.081818\n",
       "4         0.097561\n",
       "5         0.000000\n",
       "20        0.105263"
      ]
     },
     "execution_count": 37,
     "metadata": {},
     "output_type": "execute_result"
    }
   ],
   "source": [
    "pivot_ch_fin"
   ]
  },
  {
   "cell_type": "markdown",
   "metadata": {},
   "source": [
    "### Conclusion"
   ]
  },
  {
   "cell_type": "markdown",
   "metadata": {},
   "source": [
    "There is a small correlation between having children and paying debt on time, group without children has little less chances not to pay on time in total. but even this don't work for group of devorsed separetly"
   ]
  },
  {
   "cell_type": "markdown",
   "metadata": {},
   "source": [
    "- Is there a relation between marital status and repaying a loan on time?"
   ]
  },
  {
   "cell_type": "code",
   "execution_count": 38,
   "metadata": {},
   "outputs": [
    {
     "data": {
      "text/html": [
       "<div>\n",
       "<style scoped>\n",
       "    .dataframe tbody tr th:only-of-type {\n",
       "        vertical-align: middle;\n",
       "    }\n",
       "\n",
       "    .dataframe tbody tr th {\n",
       "        vertical-align: top;\n",
       "    }\n",
       "\n",
       "    .dataframe thead th {\n",
       "        text-align: right;\n",
       "    }\n",
       "</style>\n",
       "<table border=\"1\" class=\"dataframe\">\n",
       "  <thead>\n",
       "    <tr style=\"text-align: right;\">\n",
       "      <th></th>\n",
       "      <th>debt</th>\n",
       "    </tr>\n",
       "    <tr>\n",
       "      <th>family_status</th>\n",
       "      <th></th>\n",
       "    </tr>\n",
       "  </thead>\n",
       "  <tbody>\n",
       "    <tr>\n",
       "      <th>civil partnership</th>\n",
       "      <td>0.092890</td>\n",
       "    </tr>\n",
       "    <tr>\n",
       "      <th>divorced</th>\n",
       "      <td>0.071130</td>\n",
       "    </tr>\n",
       "    <tr>\n",
       "      <th>married</th>\n",
       "      <td>0.075202</td>\n",
       "    </tr>\n",
       "    <tr>\n",
       "      <th>unmarried</th>\n",
       "      <td>0.097405</td>\n",
       "    </tr>\n",
       "    <tr>\n",
       "      <th>widow / widower</th>\n",
       "      <td>0.065625</td>\n",
       "    </tr>\n",
       "  </tbody>\n",
       "</table>\n",
       "</div>"
      ],
      "text/plain": [
       "                       debt\n",
       "family_status              \n",
       "civil partnership  0.092890\n",
       "divorced           0.071130\n",
       "married            0.075202\n",
       "unmarried          0.097405\n",
       "widow / widower    0.065625"
      ]
     },
     "execution_count": 38,
     "metadata": {},
     "output_type": "execute_result"
    }
   ],
   "source": [
    "df_pivot_st = df.pivot_table(index='family_status', values='debt', aggfunc='sum')\n",
    "df_pivot_st2 = df.pivot_table(index='family_status', values='debt', aggfunc='count')\n",
    "pivot_st_fin  = df_pivot_st/df_pivot_st2\n",
    "pivot_st_fin"
   ]
  },
  {
   "cell_type": "markdown",
   "metadata": {},
   "source": [
    "### Conclusion"
   ]
  },
  {
   "cell_type": "markdown",
   "metadata": {},
   "source": [
    "Widows / widowers are the most responsible category, unmarried is the least, diffirence between this two categories is more than 3%."
   ]
  },
  {
   "cell_type": "markdown",
   "metadata": {},
   "source": [
    "- Is there a relation between income level and repaying a loan on time?"
   ]
  },
  {
   "cell_type": "code",
   "execution_count": 8,
   "metadata": {
    "scrolled": true
   },
   "outputs": [
    {
     "data": {
      "text/plain": [
       "count     19351.000000\n",
       "mean      26787.568355\n",
       "std       16475.450632\n",
       "min        3306.762000\n",
       "25%       16488.504500\n",
       "50%       23202.870000\n",
       "75%       32549.611000\n",
       "max      362496.645000\n",
       "Name: total_income, dtype: float64"
      ]
     },
     "execution_count": 8,
     "metadata": {},
     "output_type": "execute_result"
    }
   ],
   "source": [
    "df['total_income'].describe()"
   ]
  },
  {
   "cell_type": "code",
   "execution_count": 39,
   "metadata": {},
   "outputs": [],
   "source": [
    "def income_cat(row):\n",
    "    x = row['total_income']\n",
    "    if x<=16489:\n",
    "        return 'low'\n",
    "    if x>16489 and x<=23203:\n",
    "        return 'ave_low'\n",
    "    if x>23203 and x<=32550:\n",
    "        return 'ave_high'\n",
    "    if x>32550:\n",
    "        return 'high'"
   ]
  },
  {
   "cell_type": "code",
   "execution_count": 40,
   "metadata": {},
   "outputs": [
    {
     "data": {
      "text/html": [
       "<div>\n",
       "<style scoped>\n",
       "    .dataframe tbody tr th:only-of-type {\n",
       "        vertical-align: middle;\n",
       "    }\n",
       "\n",
       "    .dataframe tbody tr th {\n",
       "        vertical-align: top;\n",
       "    }\n",
       "\n",
       "    .dataframe thead th {\n",
       "        text-align: right;\n",
       "    }\n",
       "</style>\n",
       "<table border=\"1\" class=\"dataframe\">\n",
       "  <thead>\n",
       "    <tr style=\"text-align: right;\">\n",
       "      <th></th>\n",
       "      <th>debt</th>\n",
       "    </tr>\n",
       "    <tr>\n",
       "      <th>income_category</th>\n",
       "      <th></th>\n",
       "    </tr>\n",
       "  </thead>\n",
       "  <tbody>\n",
       "    <tr>\n",
       "      <th>ave_high</th>\n",
       "      <td>0.085009</td>\n",
       "    </tr>\n",
       "    <tr>\n",
       "      <th>ave_low</th>\n",
       "      <td>0.087019</td>\n",
       "    </tr>\n",
       "    <tr>\n",
       "      <th>high</th>\n",
       "      <td>0.070484</td>\n",
       "    </tr>\n",
       "    <tr>\n",
       "      <th>low</th>\n",
       "      <td>0.079165</td>\n",
       "    </tr>\n",
       "  </tbody>\n",
       "</table>\n",
       "</div>"
      ],
      "text/plain": [
       "                     debt\n",
       "income_category          \n",
       "ave_high         0.085009\n",
       "ave_low          0.087019\n",
       "high             0.070484\n",
       "low              0.079165"
      ]
     },
     "execution_count": 40,
     "metadata": {},
     "output_type": "execute_result"
    }
   ],
   "source": [
    "df['income_category'] = df.apply(income_cat, axis=1)\n",
    "\n",
    "df_pivot_inc = df.pivot_table(index='income_category', values='debt', aggfunc='sum')\n",
    "df_pivot_inc2 = df.pivot_table(index='income_category', values='debt', aggfunc='count')\n",
    "\n",
    "pivot_inc_fin  = df_pivot_inc/df_pivot_inc2\n",
    "\n",
    "pivot_inc_fin"
   ]
  },
  {
   "cell_type": "markdown",
   "metadata": {},
   "source": [
    "### Conclusion"
   ]
  },
  {
   "cell_type": "markdown",
   "metadata": {},
   "source": [
    "Average (both) income categories shows higher debt rates. The lowest has the category with high income, then goes low income. Probably, bank pays more attention to these groups, as lower seemsmore risky because of low income, higher - because of bigger sums of credit."
   ]
  },
  {
   "cell_type": "markdown",
   "metadata": {},
   "source": [
    "- How do different loan purposes affect on-time repayment of the loan?"
   ]
  },
  {
   "cell_type": "code",
   "execution_count": 43,
   "metadata": {},
   "outputs": [],
   "source": [
    "df_pivot_purp = df.pivot_table(index='purpose', values='debt', aggfunc='sum')\n",
    "df_pivot_purp2 = df.pivot_table(index='purpose', values='debt', aggfunc='count')\n",
    "\n",
    "pivot_purp_fin  = df_pivot_purp/df_pivot_purp2"
   ]
  },
  {
   "cell_type": "code",
   "execution_count": 41,
   "metadata": {
    "scrolled": true
   },
   "outputs": [
    {
     "data": {
      "text/html": [
       "<div>\n",
       "<style scoped>\n",
       "    .dataframe tbody tr th:only-of-type {\n",
       "        vertical-align: middle;\n",
       "    }\n",
       "\n",
       "    .dataframe tbody tr th {\n",
       "        vertical-align: top;\n",
       "    }\n",
       "\n",
       "    .dataframe thead th {\n",
       "        text-align: right;\n",
       "    }\n",
       "</style>\n",
       "<table border=\"1\" class=\"dataframe\">\n",
       "  <thead>\n",
       "    <tr style=\"text-align: right;\">\n",
       "      <th></th>\n",
       "      <th>debt</th>\n",
       "    </tr>\n",
       "    <tr>\n",
       "      <th>purpose</th>\n",
       "      <th></th>\n",
       "    </tr>\n",
       "  </thead>\n",
       "  <tbody>\n",
       "    <tr>\n",
       "      <th>building a property</th>\n",
       "      <td>0.087097</td>\n",
       "    </tr>\n",
       "    <tr>\n",
       "      <th>building a real estate</th>\n",
       "      <td>0.076677</td>\n",
       "    </tr>\n",
       "    <tr>\n",
       "      <th>buy commercial real estate</th>\n",
       "      <td>0.070783</td>\n",
       "    </tr>\n",
       "    <tr>\n",
       "      <th>buy real estate</th>\n",
       "      <td>0.068910</td>\n",
       "    </tr>\n",
       "    <tr>\n",
       "      <th>buy residential real estate</th>\n",
       "      <td>0.067545</td>\n",
       "    </tr>\n",
       "    <tr>\n",
       "      <th>buying a second-hand car</th>\n",
       "      <td>0.075157</td>\n",
       "    </tr>\n",
       "    <tr>\n",
       "      <th>buying my own car</th>\n",
       "      <td>0.091089</td>\n",
       "    </tr>\n",
       "    <tr>\n",
       "      <th>buying property for renting out</th>\n",
       "      <td>0.079632</td>\n",
       "    </tr>\n",
       "    <tr>\n",
       "      <th>car</th>\n",
       "      <td>0.084848</td>\n",
       "    </tr>\n",
       "    <tr>\n",
       "      <th>car purchase</th>\n",
       "      <td>0.090909</td>\n",
       "    </tr>\n",
       "    <tr>\n",
       "      <th>cars</th>\n",
       "      <td>0.092050</td>\n",
       "    </tr>\n",
       "    <tr>\n",
       "      <th>construction of own property</th>\n",
       "      <td>0.066142</td>\n",
       "    </tr>\n",
       "    <tr>\n",
       "      <th>education</th>\n",
       "      <td>0.071588</td>\n",
       "    </tr>\n",
       "    <tr>\n",
       "      <th>getting an education</th>\n",
       "      <td>0.083521</td>\n",
       "    </tr>\n",
       "    <tr>\n",
       "      <th>getting higher education</th>\n",
       "      <td>0.107981</td>\n",
       "    </tr>\n",
       "    <tr>\n",
       "      <th>going to university</th>\n",
       "      <td>0.086694</td>\n",
       "    </tr>\n",
       "    <tr>\n",
       "      <th>having a wedding</th>\n",
       "      <td>0.082368</td>\n",
       "    </tr>\n",
       "    <tr>\n",
       "      <th>housing</th>\n",
       "      <td>0.071097</td>\n",
       "    </tr>\n",
       "    <tr>\n",
       "      <th>housing renovation</th>\n",
       "      <td>0.057190</td>\n",
       "    </tr>\n",
       "    <tr>\n",
       "      <th>housing transactions</th>\n",
       "      <td>0.073507</td>\n",
       "    </tr>\n",
       "    <tr>\n",
       "      <th>profile education</th>\n",
       "      <td>0.100917</td>\n",
       "    </tr>\n",
       "    <tr>\n",
       "      <th>property</th>\n",
       "      <td>0.066246</td>\n",
       "    </tr>\n",
       "    <tr>\n",
       "      <th>purchase of a car</th>\n",
       "      <td>0.109890</td>\n",
       "    </tr>\n",
       "    <tr>\n",
       "      <th>purchase of my own house</th>\n",
       "      <td>0.054839</td>\n",
       "    </tr>\n",
       "    <tr>\n",
       "      <th>purchase of the house</th>\n",
       "      <td>0.074189</td>\n",
       "    </tr>\n",
       "    <tr>\n",
       "      <th>purchase of the house for my family</th>\n",
       "      <td>0.070203</td>\n",
       "    </tr>\n",
       "    <tr>\n",
       "      <th>real estate transactions</th>\n",
       "      <td>0.081361</td>\n",
       "    </tr>\n",
       "    <tr>\n",
       "      <th>second-hand car purchase</th>\n",
       "      <td>0.104294</td>\n",
       "    </tr>\n",
       "    <tr>\n",
       "      <th>supplementary education</th>\n",
       "      <td>0.082251</td>\n",
       "    </tr>\n",
       "    <tr>\n",
       "      <th>to become educated</th>\n",
       "      <td>0.094660</td>\n",
       "    </tr>\n",
       "    <tr>\n",
       "      <th>to buy a car</th>\n",
       "      <td>0.093220</td>\n",
       "    </tr>\n",
       "    <tr>\n",
       "      <th>to get a supplementary education</th>\n",
       "      <td>0.114094</td>\n",
       "    </tr>\n",
       "    <tr>\n",
       "      <th>to have a wedding</th>\n",
       "      <td>0.074935</td>\n",
       "    </tr>\n",
       "    <tr>\n",
       "      <th>to own a car</th>\n",
       "      <td>0.100000</td>\n",
       "    </tr>\n",
       "    <tr>\n",
       "      <th>transactions with commercial real estate</th>\n",
       "      <td>0.079877</td>\n",
       "    </tr>\n",
       "    <tr>\n",
       "      <th>transactions with my real estate</th>\n",
       "      <td>0.079365</td>\n",
       "    </tr>\n",
       "    <tr>\n",
       "      <th>university education</th>\n",
       "      <td>0.088300</td>\n",
       "    </tr>\n",
       "    <tr>\n",
       "      <th>wedding ceremony</th>\n",
       "      <td>0.080301</td>\n",
       "    </tr>\n",
       "  </tbody>\n",
       "</table>\n",
       "</div>"
      ],
      "text/plain": [
       "                                              debt\n",
       "purpose                                           \n",
       "building a property                       0.087097\n",
       "building a real estate                    0.076677\n",
       "buy commercial real estate                0.070783\n",
       "buy real estate                           0.068910\n",
       "buy residential real estate               0.067545\n",
       "buying a second-hand car                  0.075157\n",
       "buying my own car                         0.091089\n",
       "buying property for renting out           0.079632\n",
       "car                                       0.084848\n",
       "car purchase                              0.090909\n",
       "cars                                      0.092050\n",
       "construction of own property              0.066142\n",
       "education                                 0.071588\n",
       "getting an education                      0.083521\n",
       "getting higher education                  0.107981\n",
       "going to university                       0.086694\n",
       "having a wedding                          0.082368\n",
       "housing                                   0.071097\n",
       "housing renovation                        0.057190\n",
       "housing transactions                      0.073507\n",
       "profile education                         0.100917\n",
       "property                                  0.066246\n",
       "purchase of a car                         0.109890\n",
       "purchase of my own house                  0.054839\n",
       "purchase of the house                     0.074189\n",
       "purchase of the house for my family       0.070203\n",
       "real estate transactions                  0.081361\n",
       "second-hand car purchase                  0.104294\n",
       "supplementary education                   0.082251\n",
       "to become educated                        0.094660\n",
       "to buy a car                              0.093220\n",
       "to get a supplementary education          0.114094\n",
       "to have a wedding                         0.074935\n",
       "to own a car                              0.100000\n",
       "transactions with commercial real estate  0.079877\n",
       "transactions with my real estate          0.079365\n",
       "university education                      0.088300\n",
       "wedding ceremony                          0.080301"
      ]
     },
     "execution_count": 41,
     "metadata": {},
     "output_type": "execute_result"
    }
   ],
   "source": [
    "pivot_purp_fin"
   ]
  },
  {
   "cell_type": "code",
   "execution_count": 42,
   "metadata": {},
   "outputs": [
    {
     "data": {
      "text/html": [
       "<div>\n",
       "<style scoped>\n",
       "    .dataframe tbody tr th:only-of-type {\n",
       "        vertical-align: middle;\n",
       "    }\n",
       "\n",
       "    .dataframe tbody tr th {\n",
       "        vertical-align: top;\n",
       "    }\n",
       "\n",
       "    .dataframe thead th {\n",
       "        text-align: right;\n",
       "    }\n",
       "</style>\n",
       "<table border=\"1\" class=\"dataframe\">\n",
       "  <thead>\n",
       "    <tr style=\"text-align: right;\">\n",
       "      <th>family_status</th>\n",
       "      <th>civil partnership</th>\n",
       "      <th>divorced</th>\n",
       "      <th>married</th>\n",
       "      <th>unmarried</th>\n",
       "      <th>widow / widower</th>\n",
       "    </tr>\n",
       "    <tr>\n",
       "      <th>purpose</th>\n",
       "      <th></th>\n",
       "      <th></th>\n",
       "      <th></th>\n",
       "      <th></th>\n",
       "      <th></th>\n",
       "    </tr>\n",
       "  </thead>\n",
       "  <tbody>\n",
       "    <tr>\n",
       "      <th>building a property</th>\n",
       "      <td>60.0</td>\n",
       "      <td>35.0</td>\n",
       "      <td>410.0</td>\n",
       "      <td>85.0</td>\n",
       "      <td>30.0</td>\n",
       "    </tr>\n",
       "    <tr>\n",
       "      <th>building a real estate</th>\n",
       "      <td>56.0</td>\n",
       "      <td>38.0</td>\n",
       "      <td>393.0</td>\n",
       "      <td>101.0</td>\n",
       "      <td>38.0</td>\n",
       "    </tr>\n",
       "    <tr>\n",
       "      <th>buy commercial real estate</th>\n",
       "      <td>52.0</td>\n",
       "      <td>51.0</td>\n",
       "      <td>418.0</td>\n",
       "      <td>100.0</td>\n",
       "      <td>43.0</td>\n",
       "    </tr>\n",
       "    <tr>\n",
       "      <th>buy real estate</th>\n",
       "      <td>55.0</td>\n",
       "      <td>38.0</td>\n",
       "      <td>426.0</td>\n",
       "      <td>75.0</td>\n",
       "      <td>30.0</td>\n",
       "    </tr>\n",
       "    <tr>\n",
       "      <th>buy residential real estate</th>\n",
       "      <td>51.0</td>\n",
       "      <td>40.0</td>\n",
       "      <td>397.0</td>\n",
       "      <td>97.0</td>\n",
       "      <td>22.0</td>\n",
       "    </tr>\n",
       "    <tr>\n",
       "      <th>buying a second-hand car</th>\n",
       "      <td>44.0</td>\n",
       "      <td>31.0</td>\n",
       "      <td>302.0</td>\n",
       "      <td>78.0</td>\n",
       "      <td>24.0</td>\n",
       "    </tr>\n",
       "    <tr>\n",
       "      <th>buying my own car</th>\n",
       "      <td>48.0</td>\n",
       "      <td>31.0</td>\n",
       "      <td>332.0</td>\n",
       "      <td>72.0</td>\n",
       "      <td>22.0</td>\n",
       "    </tr>\n",
       "    <tr>\n",
       "      <th>buying property for renting out</th>\n",
       "      <td>73.0</td>\n",
       "      <td>39.0</td>\n",
       "      <td>427.0</td>\n",
       "      <td>86.0</td>\n",
       "      <td>28.0</td>\n",
       "    </tr>\n",
       "    <tr>\n",
       "      <th>car</th>\n",
       "      <td>56.0</td>\n",
       "      <td>34.0</td>\n",
       "      <td>316.0</td>\n",
       "      <td>59.0</td>\n",
       "      <td>30.0</td>\n",
       "    </tr>\n",
       "    <tr>\n",
       "      <th>car purchase</th>\n",
       "      <td>41.0</td>\n",
       "      <td>26.0</td>\n",
       "      <td>295.0</td>\n",
       "      <td>76.0</td>\n",
       "      <td>24.0</td>\n",
       "    </tr>\n",
       "    <tr>\n",
       "      <th>cars</th>\n",
       "      <td>44.0</td>\n",
       "      <td>44.0</td>\n",
       "      <td>294.0</td>\n",
       "      <td>77.0</td>\n",
       "      <td>19.0</td>\n",
       "    </tr>\n",
       "    <tr>\n",
       "      <th>construction of own property</th>\n",
       "      <td>66.0</td>\n",
       "      <td>39.0</td>\n",
       "      <td>407.0</td>\n",
       "      <td>96.0</td>\n",
       "      <td>27.0</td>\n",
       "    </tr>\n",
       "    <tr>\n",
       "      <th>education</th>\n",
       "      <td>32.0</td>\n",
       "      <td>30.0</td>\n",
       "      <td>290.0</td>\n",
       "      <td>68.0</td>\n",
       "      <td>27.0</td>\n",
       "    </tr>\n",
       "    <tr>\n",
       "      <th>getting an education</th>\n",
       "      <td>48.0</td>\n",
       "      <td>29.0</td>\n",
       "      <td>290.0</td>\n",
       "      <td>63.0</td>\n",
       "      <td>13.0</td>\n",
       "    </tr>\n",
       "    <tr>\n",
       "      <th>getting higher education</th>\n",
       "      <td>49.0</td>\n",
       "      <td>20.0</td>\n",
       "      <td>272.0</td>\n",
       "      <td>67.0</td>\n",
       "      <td>18.0</td>\n",
       "    </tr>\n",
       "    <tr>\n",
       "      <th>going to university</th>\n",
       "      <td>62.0</td>\n",
       "      <td>37.0</td>\n",
       "      <td>314.0</td>\n",
       "      <td>62.0</td>\n",
       "      <td>21.0</td>\n",
       "    </tr>\n",
       "    <tr>\n",
       "      <th>having a wedding</th>\n",
       "      <td>777.0</td>\n",
       "      <td>NaN</td>\n",
       "      <td>NaN</td>\n",
       "      <td>NaN</td>\n",
       "      <td>NaN</td>\n",
       "    </tr>\n",
       "    <tr>\n",
       "      <th>housing</th>\n",
       "      <td>64.0</td>\n",
       "      <td>40.0</td>\n",
       "      <td>407.0</td>\n",
       "      <td>106.0</td>\n",
       "      <td>30.0</td>\n",
       "    </tr>\n",
       "    <tr>\n",
       "      <th>housing renovation</th>\n",
       "      <td>55.0</td>\n",
       "      <td>39.0</td>\n",
       "      <td>393.0</td>\n",
       "      <td>93.0</td>\n",
       "      <td>32.0</td>\n",
       "    </tr>\n",
       "    <tr>\n",
       "      <th>housing transactions</th>\n",
       "      <td>53.0</td>\n",
       "      <td>39.0</td>\n",
       "      <td>420.0</td>\n",
       "      <td>103.0</td>\n",
       "      <td>38.0</td>\n",
       "    </tr>\n",
       "    <tr>\n",
       "      <th>profile education</th>\n",
       "      <td>44.0</td>\n",
       "      <td>22.0</td>\n",
       "      <td>286.0</td>\n",
       "      <td>64.0</td>\n",
       "      <td>20.0</td>\n",
       "    </tr>\n",
       "    <tr>\n",
       "      <th>property</th>\n",
       "      <td>58.0</td>\n",
       "      <td>48.0</td>\n",
       "      <td>403.0</td>\n",
       "      <td>96.0</td>\n",
       "      <td>29.0</td>\n",
       "    </tr>\n",
       "    <tr>\n",
       "      <th>purchase of a car</th>\n",
       "      <td>45.0</td>\n",
       "      <td>21.0</td>\n",
       "      <td>288.0</td>\n",
       "      <td>78.0</td>\n",
       "      <td>23.0</td>\n",
       "    </tr>\n",
       "    <tr>\n",
       "      <th>purchase of my own house</th>\n",
       "      <td>48.0</td>\n",
       "      <td>41.0</td>\n",
       "      <td>421.0</td>\n",
       "      <td>87.0</td>\n",
       "      <td>23.0</td>\n",
       "    </tr>\n",
       "    <tr>\n",
       "      <th>purchase of the house</th>\n",
       "      <td>51.0</td>\n",
       "      <td>35.0</td>\n",
       "      <td>429.0</td>\n",
       "      <td>92.0</td>\n",
       "      <td>40.0</td>\n",
       "    </tr>\n",
       "    <tr>\n",
       "      <th>purchase of the house for my family</th>\n",
       "      <td>60.0</td>\n",
       "      <td>34.0</td>\n",
       "      <td>420.0</td>\n",
       "      <td>92.0</td>\n",
       "      <td>35.0</td>\n",
       "    </tr>\n",
       "    <tr>\n",
       "      <th>real estate transactions</th>\n",
       "      <td>64.0</td>\n",
       "      <td>45.0</td>\n",
       "      <td>429.0</td>\n",
       "      <td>109.0</td>\n",
       "      <td>29.0</td>\n",
       "    </tr>\n",
       "    <tr>\n",
       "      <th>second-hand car purchase</th>\n",
       "      <td>45.0</td>\n",
       "      <td>34.0</td>\n",
       "      <td>311.0</td>\n",
       "      <td>67.0</td>\n",
       "      <td>32.0</td>\n",
       "    </tr>\n",
       "    <tr>\n",
       "      <th>supplementary education</th>\n",
       "      <td>37.0</td>\n",
       "      <td>29.0</td>\n",
       "      <td>294.0</td>\n",
       "      <td>78.0</td>\n",
       "      <td>24.0</td>\n",
       "    </tr>\n",
       "    <tr>\n",
       "      <th>to become educated</th>\n",
       "      <td>40.0</td>\n",
       "      <td>14.0</td>\n",
       "      <td>281.0</td>\n",
       "      <td>55.0</td>\n",
       "      <td>22.0</td>\n",
       "    </tr>\n",
       "    <tr>\n",
       "      <th>to buy a car</th>\n",
       "      <td>56.0</td>\n",
       "      <td>29.0</td>\n",
       "      <td>294.0</td>\n",
       "      <td>69.0</td>\n",
       "      <td>24.0</td>\n",
       "    </tr>\n",
       "    <tr>\n",
       "      <th>to get a supplementary education</th>\n",
       "      <td>47.0</td>\n",
       "      <td>29.0</td>\n",
       "      <td>284.0</td>\n",
       "      <td>61.0</td>\n",
       "      <td>26.0</td>\n",
       "    </tr>\n",
       "    <tr>\n",
       "      <th>to have a wedding</th>\n",
       "      <td>774.0</td>\n",
       "      <td>NaN</td>\n",
       "      <td>NaN</td>\n",
       "      <td>NaN</td>\n",
       "      <td>NaN</td>\n",
       "    </tr>\n",
       "    <tr>\n",
       "      <th>to own a car</th>\n",
       "      <td>55.0</td>\n",
       "      <td>31.0</td>\n",
       "      <td>312.0</td>\n",
       "      <td>62.0</td>\n",
       "      <td>20.0</td>\n",
       "    </tr>\n",
       "    <tr>\n",
       "      <th>transactions with commercial real estate</th>\n",
       "      <td>71.0</td>\n",
       "      <td>41.0</td>\n",
       "      <td>420.0</td>\n",
       "      <td>85.0</td>\n",
       "      <td>34.0</td>\n",
       "    </tr>\n",
       "    <tr>\n",
       "      <th>transactions with my real estate</th>\n",
       "      <td>54.0</td>\n",
       "      <td>34.0</td>\n",
       "      <td>413.0</td>\n",
       "      <td>94.0</td>\n",
       "      <td>35.0</td>\n",
       "    </tr>\n",
       "    <tr>\n",
       "      <th>university education</th>\n",
       "      <td>45.0</td>\n",
       "      <td>28.0</td>\n",
       "      <td>292.0</td>\n",
       "      <td>60.0</td>\n",
       "      <td>28.0</td>\n",
       "    </tr>\n",
       "    <tr>\n",
       "      <th>wedding ceremony</th>\n",
       "      <td>797.0</td>\n",
       "      <td>NaN</td>\n",
       "      <td>NaN</td>\n",
       "      <td>NaN</td>\n",
       "      <td>NaN</td>\n",
       "    </tr>\n",
       "  </tbody>\n",
       "</table>\n",
       "</div>"
      ],
      "text/plain": [
       "family_status                             civil partnership  divorced  \\\n",
       "purpose                                                                 \n",
       "building a property                                    60.0      35.0   \n",
       "building a real estate                                 56.0      38.0   \n",
       "buy commercial real estate                             52.0      51.0   \n",
       "buy real estate                                        55.0      38.0   \n",
       "buy residential real estate                            51.0      40.0   \n",
       "buying a second-hand car                               44.0      31.0   \n",
       "buying my own car                                      48.0      31.0   \n",
       "buying property for renting out                        73.0      39.0   \n",
       "car                                                    56.0      34.0   \n",
       "car purchase                                           41.0      26.0   \n",
       "cars                                                   44.0      44.0   \n",
       "construction of own property                           66.0      39.0   \n",
       "education                                              32.0      30.0   \n",
       "getting an education                                   48.0      29.0   \n",
       "getting higher education                               49.0      20.0   \n",
       "going to university                                    62.0      37.0   \n",
       "having a wedding                                      777.0       NaN   \n",
       "housing                                                64.0      40.0   \n",
       "housing renovation                                     55.0      39.0   \n",
       "housing transactions                                   53.0      39.0   \n",
       "profile education                                      44.0      22.0   \n",
       "property                                               58.0      48.0   \n",
       "purchase of a car                                      45.0      21.0   \n",
       "purchase of my own house                               48.0      41.0   \n",
       "purchase of the house                                  51.0      35.0   \n",
       "purchase of the house for my family                    60.0      34.0   \n",
       "real estate transactions                               64.0      45.0   \n",
       "second-hand car purchase                               45.0      34.0   \n",
       "supplementary education                                37.0      29.0   \n",
       "to become educated                                     40.0      14.0   \n",
       "to buy a car                                           56.0      29.0   \n",
       "to get a supplementary education                       47.0      29.0   \n",
       "to have a wedding                                     774.0       NaN   \n",
       "to own a car                                           55.0      31.0   \n",
       "transactions with commercial real estate               71.0      41.0   \n",
       "transactions with my real estate                       54.0      34.0   \n",
       "university education                                   45.0      28.0   \n",
       "wedding ceremony                                      797.0       NaN   \n",
       "\n",
       "family_status                             married  unmarried  widow / widower  \n",
       "purpose                                                                        \n",
       "building a property                         410.0       85.0             30.0  \n",
       "building a real estate                      393.0      101.0             38.0  \n",
       "buy commercial real estate                  418.0      100.0             43.0  \n",
       "buy real estate                             426.0       75.0             30.0  \n",
       "buy residential real estate                 397.0       97.0             22.0  \n",
       "buying a second-hand car                    302.0       78.0             24.0  \n",
       "buying my own car                           332.0       72.0             22.0  \n",
       "buying property for renting out             427.0       86.0             28.0  \n",
       "car                                         316.0       59.0             30.0  \n",
       "car purchase                                295.0       76.0             24.0  \n",
       "cars                                        294.0       77.0             19.0  \n",
       "construction of own property                407.0       96.0             27.0  \n",
       "education                                   290.0       68.0             27.0  \n",
       "getting an education                        290.0       63.0             13.0  \n",
       "getting higher education                    272.0       67.0             18.0  \n",
       "going to university                         314.0       62.0             21.0  \n",
       "having a wedding                              NaN        NaN              NaN  \n",
       "housing                                     407.0      106.0             30.0  \n",
       "housing renovation                          393.0       93.0             32.0  \n",
       "housing transactions                        420.0      103.0             38.0  \n",
       "profile education                           286.0       64.0             20.0  \n",
       "property                                    403.0       96.0             29.0  \n",
       "purchase of a car                           288.0       78.0             23.0  \n",
       "purchase of my own house                    421.0       87.0             23.0  \n",
       "purchase of the house                       429.0       92.0             40.0  \n",
       "purchase of the house for my family         420.0       92.0             35.0  \n",
       "real estate transactions                    429.0      109.0             29.0  \n",
       "second-hand car purchase                    311.0       67.0             32.0  \n",
       "supplementary education                     294.0       78.0             24.0  \n",
       "to become educated                          281.0       55.0             22.0  \n",
       "to buy a car                                294.0       69.0             24.0  \n",
       "to get a supplementary education            284.0       61.0             26.0  \n",
       "to have a wedding                             NaN        NaN              NaN  \n",
       "to own a car                                312.0       62.0             20.0  \n",
       "transactions with commercial real estate    420.0       85.0             34.0  \n",
       "transactions with my real estate            413.0       94.0             35.0  \n",
       "university education                        292.0       60.0             28.0  \n",
       "wedding ceremony                              NaN        NaN              NaN  "
      ]
     },
     "execution_count": 42,
     "metadata": {},
     "output_type": "execute_result"
    }
   ],
   "source": [
    "df_pivot_new = df.pivot_table(index='purpose', columns='family_status', values='debt', aggfunc='count')\n",
    "df_pivot_new"
   ]
  },
  {
   "cell_type": "code",
   "execution_count": 11,
   "metadata": {
    "scrolled": true
   },
   "outputs": [
    {
     "data": {
      "text/plain": [
       "array(['purchase of the house', 'car purchase', 'supplementary education',\n",
       "       'to have a wedding', 'housing transactions', 'education',\n",
       "       'having a wedding', 'purchase of the house for my family',\n",
       "       'buy real estate', 'buy commercial real estate',\n",
       "       'buy residential real estate', 'construction of own property',\n",
       "       'property', 'building a property', 'buying a second-hand car',\n",
       "       'buying my own car', 'transactions with commercial real estate',\n",
       "       'building a real estate', 'housing',\n",
       "       'transactions with my real estate', 'cars', 'to become educated',\n",
       "       'second-hand car purchase', 'getting an education', 'car',\n",
       "       'wedding ceremony', 'to get a supplementary education',\n",
       "       'purchase of my own house', 'real estate transactions',\n",
       "       'getting higher education', 'to own a car', 'purchase of a car',\n",
       "       'profile education', 'university education',\n",
       "       'buying property for renting out', 'to buy a car',\n",
       "       'housing renovation', 'going to university'], dtype=object)"
      ]
     },
     "execution_count": 11,
     "metadata": {},
     "output_type": "execute_result"
    }
   ],
   "source": [
    "df.purpose.unique()"
   ]
  },
  {
   "cell_type": "code",
   "execution_count": 12,
   "metadata": {},
   "outputs": [],
   "source": [
    "car = ['car', 'second-hand', 'cars']\n",
    "house = ['house', 'hous','housing', 'transactions', 'family', 'real estate',\n",
    "         'commercial', 'residential', 'construction', 'property', \n",
    "         'transactions', 'commercial', 'building', 'housing', 'property', \n",
    "         'renting', 'renovation', 'real']\n",
    "wedding = ['wedding', 'having a wedding', 'ceremony', 'wed']\n",
    "education = ['supplementary', 'education', 'educated', 'higher', 'profile', \n",
    "             'university']\n",
    "\n",
    "m=Mystem()\n"
   ]
  },
  {
   "cell_type": "code",
   "execution_count": 13,
   "metadata": {},
   "outputs": [],
   "source": [
    "def lemmatization_func (line):\n",
    "    lemmatized=m.lemmatize(line)\n",
    "    if any(word in lemmatized for word in car):\n",
    "        return 'car'\n",
    "    elif any(word in lemmatized for word in house):\n",
    "        return 'house'\n",
    "    elif any(word in lemmatized for word in wedding):\n",
    "        return 'wed'\n",
    "    elif any(word in lemmatized for word in education):\n",
    "        return 'edu'\n",
    "    else:\n",
    "        return 'house'"
   ]
  },
  {
   "cell_type": "code",
   "execution_count": 47,
   "metadata": {},
   "outputs": [],
   "source": [
    "df['purpose_cat']=df['purpose'].apply(lemmatization_func)"
   ]
  },
  {
   "cell_type": "code",
   "execution_count": 48,
   "metadata": {
    "scrolled": true
   },
   "outputs": [
    {
     "data": {
      "text/html": [
       "<div>\n",
       "<style scoped>\n",
       "    .dataframe tbody tr th:only-of-type {\n",
       "        vertical-align: middle;\n",
       "    }\n",
       "\n",
       "    .dataframe tbody tr th {\n",
       "        vertical-align: top;\n",
       "    }\n",
       "\n",
       "    .dataframe thead th {\n",
       "        text-align: right;\n",
       "    }\n",
       "</style>\n",
       "<table border=\"1\" class=\"dataframe\">\n",
       "  <thead>\n",
       "    <tr style=\"text-align: right;\">\n",
       "      <th></th>\n",
       "      <th>children</th>\n",
       "      <th>days_employed</th>\n",
       "      <th>dob_years</th>\n",
       "      <th>education</th>\n",
       "      <th>education_id</th>\n",
       "      <th>family_status</th>\n",
       "      <th>family_status_id</th>\n",
       "      <th>gender</th>\n",
       "      <th>income_type</th>\n",
       "      <th>debt</th>\n",
       "      <th>total_income</th>\n",
       "      <th>purpose</th>\n",
       "      <th>status_categorization</th>\n",
       "      <th>income_category</th>\n",
       "      <th>purpose_cat</th>\n",
       "    </tr>\n",
       "  </thead>\n",
       "  <tbody>\n",
       "    <tr>\n",
       "      <th>21515</th>\n",
       "      <td>1</td>\n",
       "      <td>467</td>\n",
       "      <td>28</td>\n",
       "      <td>secondary education</td>\n",
       "      <td>1</td>\n",
       "      <td>married</td>\n",
       "      <td>0</td>\n",
       "      <td>F</td>\n",
       "      <td>employee</td>\n",
       "      <td>1</td>\n",
       "      <td>17517.812</td>\n",
       "      <td>to become educated</td>\n",
       "      <td>couple_with</td>\n",
       "      <td>ave_low</td>\n",
       "      <td>edu</td>\n",
       "    </tr>\n",
       "    <tr>\n",
       "      <th>21516</th>\n",
       "      <td>0</td>\n",
       "      <td>914</td>\n",
       "      <td>42</td>\n",
       "      <td>bachelor's degree</td>\n",
       "      <td>0</td>\n",
       "      <td>married</td>\n",
       "      <td>0</td>\n",
       "      <td>F</td>\n",
       "      <td>business</td>\n",
       "      <td>0</td>\n",
       "      <td>51649.244</td>\n",
       "      <td>purchase of my own house</td>\n",
       "      <td>couple_zero</td>\n",
       "      <td>high</td>\n",
       "      <td>house</td>\n",
       "    </tr>\n",
       "    <tr>\n",
       "      <th>21517</th>\n",
       "      <td>0</td>\n",
       "      <td>404</td>\n",
       "      <td>42</td>\n",
       "      <td>bachelor's degree</td>\n",
       "      <td>0</td>\n",
       "      <td>civil partnership</td>\n",
       "      <td>1</td>\n",
       "      <td>F</td>\n",
       "      <td>business</td>\n",
       "      <td>0</td>\n",
       "      <td>28489.529</td>\n",
       "      <td>buying my own car</td>\n",
       "      <td>couple_zero</td>\n",
       "      <td>ave_high</td>\n",
       "      <td>car</td>\n",
       "    </tr>\n",
       "    <tr>\n",
       "      <th>21518</th>\n",
       "      <td>0</td>\n",
       "      <td>373995</td>\n",
       "      <td>59</td>\n",
       "      <td>SECONDARY EDUCATION</td>\n",
       "      <td>1</td>\n",
       "      <td>married</td>\n",
       "      <td>0</td>\n",
       "      <td>F</td>\n",
       "      <td>retiree</td>\n",
       "      <td>0</td>\n",
       "      <td>24618.344</td>\n",
       "      <td>purchase of a car</td>\n",
       "      <td>couple_zero</td>\n",
       "      <td>ave_high</td>\n",
       "      <td>car</td>\n",
       "    </tr>\n",
       "    <tr>\n",
       "      <th>21519</th>\n",
       "      <td>1</td>\n",
       "      <td>2351</td>\n",
       "      <td>37</td>\n",
       "      <td>graduate degree</td>\n",
       "      <td>4</td>\n",
       "      <td>divorced</td>\n",
       "      <td>3</td>\n",
       "      <td>M</td>\n",
       "      <td>employee</td>\n",
       "      <td>0</td>\n",
       "      <td>18551.846</td>\n",
       "      <td>buy commercial real estate</td>\n",
       "      <td>single_with</td>\n",
       "      <td>ave_low</td>\n",
       "      <td>house</td>\n",
       "    </tr>\n",
       "    <tr>\n",
       "      <th>21520</th>\n",
       "      <td>1</td>\n",
       "      <td>4529</td>\n",
       "      <td>43</td>\n",
       "      <td>secondary education</td>\n",
       "      <td>1</td>\n",
       "      <td>civil partnership</td>\n",
       "      <td>1</td>\n",
       "      <td>F</td>\n",
       "      <td>business</td>\n",
       "      <td>0</td>\n",
       "      <td>35966.698</td>\n",
       "      <td>housing transactions</td>\n",
       "      <td>couple_with</td>\n",
       "      <td>high</td>\n",
       "      <td>house</td>\n",
       "    </tr>\n",
       "    <tr>\n",
       "      <th>21521</th>\n",
       "      <td>0</td>\n",
       "      <td>343937</td>\n",
       "      <td>67</td>\n",
       "      <td>secondary education</td>\n",
       "      <td>1</td>\n",
       "      <td>married</td>\n",
       "      <td>0</td>\n",
       "      <td>F</td>\n",
       "      <td>retiree</td>\n",
       "      <td>0</td>\n",
       "      <td>24959.969</td>\n",
       "      <td>purchase of a car</td>\n",
       "      <td>couple_zero</td>\n",
       "      <td>ave_high</td>\n",
       "      <td>car</td>\n",
       "    </tr>\n",
       "    <tr>\n",
       "      <th>21522</th>\n",
       "      <td>1</td>\n",
       "      <td>2113</td>\n",
       "      <td>38</td>\n",
       "      <td>secondary education</td>\n",
       "      <td>1</td>\n",
       "      <td>civil partnership</td>\n",
       "      <td>1</td>\n",
       "      <td>M</td>\n",
       "      <td>employee</td>\n",
       "      <td>1</td>\n",
       "      <td>14347.610</td>\n",
       "      <td>property</td>\n",
       "      <td>couple_with</td>\n",
       "      <td>low</td>\n",
       "      <td>house</td>\n",
       "    </tr>\n",
       "    <tr>\n",
       "      <th>21523</th>\n",
       "      <td>3</td>\n",
       "      <td>3112</td>\n",
       "      <td>38</td>\n",
       "      <td>secondary education</td>\n",
       "      <td>1</td>\n",
       "      <td>married</td>\n",
       "      <td>0</td>\n",
       "      <td>M</td>\n",
       "      <td>employee</td>\n",
       "      <td>1</td>\n",
       "      <td>39054.888</td>\n",
       "      <td>buying my own car</td>\n",
       "      <td>couple_with</td>\n",
       "      <td>high</td>\n",
       "      <td>car</td>\n",
       "    </tr>\n",
       "    <tr>\n",
       "      <th>21524</th>\n",
       "      <td>2</td>\n",
       "      <td>1984</td>\n",
       "      <td>40</td>\n",
       "      <td>secondary education</td>\n",
       "      <td>1</td>\n",
       "      <td>married</td>\n",
       "      <td>0</td>\n",
       "      <td>F</td>\n",
       "      <td>employee</td>\n",
       "      <td>0</td>\n",
       "      <td>13127.587</td>\n",
       "      <td>to buy a car</td>\n",
       "      <td>couple_with</td>\n",
       "      <td>low</td>\n",
       "      <td>car</td>\n",
       "    </tr>\n",
       "  </tbody>\n",
       "</table>\n",
       "</div>"
      ],
      "text/plain": [
       "       children  days_employed  dob_years            education  education_id  \\\n",
       "21515         1            467         28  secondary education             1   \n",
       "21516         0            914         42    bachelor's degree             0   \n",
       "21517         0            404         42    bachelor's degree             0   \n",
       "21518         0         373995         59  SECONDARY EDUCATION             1   \n",
       "21519         1           2351         37      graduate degree             4   \n",
       "21520         1           4529         43  secondary education             1   \n",
       "21521         0         343937         67  secondary education             1   \n",
       "21522         1           2113         38  secondary education             1   \n",
       "21523         3           3112         38  secondary education             1   \n",
       "21524         2           1984         40  secondary education             1   \n",
       "\n",
       "           family_status  family_status_id gender income_type  debt  \\\n",
       "21515            married                 0      F    employee     1   \n",
       "21516            married                 0      F    business     0   \n",
       "21517  civil partnership                 1      F    business     0   \n",
       "21518            married                 0      F     retiree     0   \n",
       "21519           divorced                 3      M    employee     0   \n",
       "21520  civil partnership                 1      F    business     0   \n",
       "21521            married                 0      F     retiree     0   \n",
       "21522  civil partnership                 1      M    employee     1   \n",
       "21523            married                 0      M    employee     1   \n",
       "21524            married                 0      F    employee     0   \n",
       "\n",
       "       total_income                     purpose status_categorization  \\\n",
       "21515     17517.812          to become educated           couple_with   \n",
       "21516     51649.244    purchase of my own house           couple_zero   \n",
       "21517     28489.529           buying my own car           couple_zero   \n",
       "21518     24618.344           purchase of a car           couple_zero   \n",
       "21519     18551.846  buy commercial real estate           single_with   \n",
       "21520     35966.698        housing transactions           couple_with   \n",
       "21521     24959.969           purchase of a car           couple_zero   \n",
       "21522     14347.610                    property           couple_with   \n",
       "21523     39054.888           buying my own car           couple_with   \n",
       "21524     13127.587                to buy a car           couple_with   \n",
       "\n",
       "      income_category purpose_cat  \n",
       "21515         ave_low         edu  \n",
       "21516            high       house  \n",
       "21517        ave_high         car  \n",
       "21518        ave_high         car  \n",
       "21519         ave_low       house  \n",
       "21520            high       house  \n",
       "21521        ave_high         car  \n",
       "21522             low       house  \n",
       "21523            high         car  \n",
       "21524             low         car  "
      ]
     },
     "execution_count": 48,
     "metadata": {},
     "output_type": "execute_result"
    }
   ],
   "source": [
    "df.tail(10)"
   ]
  },
  {
   "cell_type": "code",
   "execution_count": 49,
   "metadata": {},
   "outputs": [
    {
     "data": {
      "text/plain": [
       "house    10840\n",
       "car       4315\n",
       "edu       4022\n",
       "wed       2348\n",
       "Name: purpose_cat, dtype: int64"
      ]
     },
     "execution_count": 49,
     "metadata": {},
     "output_type": "execute_result"
    }
   ],
   "source": [
    "df['purpose_cat'].value_counts()"
   ]
  },
  {
   "cell_type": "code",
   "execution_count": 15,
   "metadata": {},
   "outputs": [
    {
     "data": {
      "text/plain": [
       "Series([], Name: purpose, dtype: int64)"
      ]
     },
     "execution_count": 15,
     "metadata": {},
     "output_type": "execute_result"
    }
   ],
   "source": [
    "df[df['purpose_cat'] == 'other']['purpose'].value_counts()"
   ]
  },
  {
   "cell_type": "code",
   "execution_count": 50,
   "metadata": {},
   "outputs": [
    {
     "data": {
      "text/html": [
       "<div>\n",
       "<style scoped>\n",
       "    .dataframe tbody tr th:only-of-type {\n",
       "        vertical-align: middle;\n",
       "    }\n",
       "\n",
       "    .dataframe tbody tr th {\n",
       "        vertical-align: top;\n",
       "    }\n",
       "\n",
       "    .dataframe thead th {\n",
       "        text-align: right;\n",
       "    }\n",
       "</style>\n",
       "<table border=\"1\" class=\"dataframe\">\n",
       "  <thead>\n",
       "    <tr style=\"text-align: right;\">\n",
       "      <th></th>\n",
       "      <th>debt</th>\n",
       "    </tr>\n",
       "    <tr>\n",
       "      <th>purpose_cat</th>\n",
       "      <th></th>\n",
       "    </tr>\n",
       "  </thead>\n",
       "  <tbody>\n",
       "    <tr>\n",
       "      <th>car</th>\n",
       "      <td>0.093395</td>\n",
       "    </tr>\n",
       "    <tr>\n",
       "      <th>edu</th>\n",
       "      <td>0.091994</td>\n",
       "    </tr>\n",
       "    <tr>\n",
       "      <th>house</th>\n",
       "      <td>0.072140</td>\n",
       "    </tr>\n",
       "    <tr>\n",
       "      <th>wed</th>\n",
       "      <td>0.079216</td>\n",
       "    </tr>\n",
       "  </tbody>\n",
       "</table>\n",
       "</div>"
      ],
      "text/plain": [
       "                 debt\n",
       "purpose_cat          \n",
       "car          0.093395\n",
       "edu          0.091994\n",
       "house        0.072140\n",
       "wed          0.079216"
      ]
     },
     "execution_count": 50,
     "metadata": {},
     "output_type": "execute_result"
    }
   ],
   "source": [
    "df_pivot_purp_cat = df.pivot_table(index='purpose_cat', values='debt', aggfunc='sum')\n",
    "df_pivot_purp_cat2 = df.pivot_table(index='purpose_cat', values='debt', aggfunc='count')\n",
    "pivot_purp_cat_fin  = df_pivot_purp_cat/df_pivot_purp_cat2\n",
    "pivot_purp_cat_fin"
   ]
  },
  {
   "cell_type": "markdown",
   "metadata": {},
   "source": [
    "### Conclusion"
   ]
  },
  {
   "cell_type": "markdown",
   "metadata": {},
   "source": [
    "Between all purposes car and education reasons have higher debt, then other reasons like wedding or housing.\n",
    "For calculations purposes divided in 4 main reasons - connected with housing, cars, wedding and education.\n",
    "Dividing purposes into 4 categories shows that only 7,2%(the lowest of the house credits has problems with repaying a loan on time, while in cars category - 9,3%."
   ]
  },
  {
   "cell_type": "markdown",
   "metadata": {},
   "source": [
    "## General conclusion"
   ]
  },
  {
   "cell_type": "markdown",
   "metadata": {},
   "source": [
    "Category of income status and purpose of credit has the highest impact on debt payments, comparing on other categories reviewed. "
   ]
  }
 ],
 "metadata": {
  "ExecuteTimeLog": [
   {
    "duration": 3500,
    "start_time": "2021-10-10T11:17:25.936Z"
   },
   {
    "duration": 2517,
    "start_time": "2021-10-10T11:17:30.429Z"
   },
   {
    "duration": 170,
    "start_time": "2021-10-10T11:18:24.534Z"
   },
   {
    "duration": 224,
    "start_time": "2021-10-10T11:19:13.660Z"
   },
   {
    "duration": 192,
    "start_time": "2021-10-10T11:20:09.566Z"
   },
   {
    "duration": 12,
    "start_time": "2021-10-10T12:23:09.781Z"
   },
   {
    "duration": 13,
    "start_time": "2021-10-10T12:23:32.048Z"
   },
   {
    "duration": 10,
    "start_time": "2021-10-10T12:23:54.423Z"
   },
   {
    "duration": 10,
    "start_time": "2021-10-10T12:25:01.634Z"
   },
   {
    "duration": 13,
    "start_time": "2021-10-10T12:25:33.438Z"
   },
   {
    "duration": 15,
    "start_time": "2021-10-10T12:34:31.150Z"
   },
   {
    "duration": 117,
    "start_time": "2021-10-10T12:37:11.647Z"
   },
   {
    "duration": 18,
    "start_time": "2021-10-10T12:37:42.903Z"
   },
   {
    "duration": 16,
    "start_time": "2021-10-10T12:38:21.936Z"
   },
   {
    "duration": 17,
    "start_time": "2021-10-10T12:38:48.932Z"
   },
   {
    "duration": 17,
    "start_time": "2021-10-10T12:38:58.035Z"
   },
   {
    "duration": 24,
    "start_time": "2021-10-10T12:44:20.235Z"
   },
   {
    "duration": 337,
    "start_time": "2021-10-10T12:45:03.198Z"
   },
   {
    "duration": 22,
    "start_time": "2021-10-10T12:45:26.823Z"
   },
   {
    "duration": 346,
    "start_time": "2021-10-10T12:51:11.599Z"
   },
   {
    "duration": 24,
    "start_time": "2021-10-10T12:56:17.490Z"
   },
   {
    "duration": 14,
    "start_time": "2021-10-10T12:56:37.002Z"
   },
   {
    "duration": 7,
    "start_time": "2021-10-10T12:56:44.624Z"
   },
   {
    "duration": 13,
    "start_time": "2021-10-10T12:56:50.804Z"
   },
   {
    "duration": 22,
    "start_time": "2021-10-10T12:57:32.820Z"
   },
   {
    "duration": 22,
    "start_time": "2021-10-10T12:57:55.941Z"
   },
   {
    "duration": 458,
    "start_time": "2021-10-10T12:59:22.600Z"
   },
   {
    "duration": 29,
    "start_time": "2021-10-10T13:00:42.307Z"
   },
   {
    "duration": 30,
    "start_time": "2021-10-10T13:00:57.919Z"
   },
   {
    "duration": 30,
    "start_time": "2021-10-10T13:22:00.542Z"
   },
   {
    "duration": 43,
    "start_time": "2021-10-10T13:22:40.773Z"
   },
   {
    "duration": 34,
    "start_time": "2021-10-10T13:22:58.402Z"
   },
   {
    "duration": 32,
    "start_time": "2021-10-10T13:24:47.754Z"
   },
   {
    "duration": 23,
    "start_time": "2021-10-10T13:25:08.850Z"
   },
   {
    "duration": 351,
    "start_time": "2021-10-10T13:29:36.843Z"
   },
   {
    "duration": 18,
    "start_time": "2021-10-10T13:29:44.195Z"
   },
   {
    "duration": 11,
    "start_time": "2021-10-10T13:34:38.686Z"
   },
   {
    "duration": 878,
    "start_time": "2021-10-10T14:03:05.038Z"
   },
   {
    "duration": 10,
    "start_time": "2021-10-10T14:05:01.632Z"
   },
   {
    "duration": 183,
    "start_time": "2021-10-11T11:44:29.649Z"
   },
   {
    "duration": 148,
    "start_time": "2021-10-11T11:46:40.855Z"
   },
   {
    "duration": 716,
    "start_time": "2021-10-11T11:46:55.177Z"
   },
   {
    "duration": 420,
    "start_time": "2021-10-11T11:48:43.626Z"
   },
   {
    "duration": 135,
    "start_time": "2021-10-11T11:49:34.755Z"
   },
   {
    "duration": 143,
    "start_time": "2021-10-11T11:50:30.110Z"
   },
   {
    "duration": 135,
    "start_time": "2021-10-11T11:50:57.572Z"
   },
   {
    "duration": 142,
    "start_time": "2021-10-11T11:51:17.397Z"
   },
   {
    "duration": 370,
    "start_time": "2021-10-11T12:02:58.675Z"
   },
   {
    "duration": 285,
    "start_time": "2021-10-11T12:04:26.843Z"
   },
   {
    "duration": 450,
    "start_time": "2021-10-11T12:18:13.528Z"
   },
   {
    "duration": 4007,
    "start_time": "2021-10-11T12:18:47.468Z"
   },
   {
    "duration": 4229,
    "start_time": "2021-10-11T12:18:56.755Z"
   },
   {
    "duration": 455,
    "start_time": "2021-10-11T12:19:35.408Z"
   },
   {
    "duration": 522,
    "start_time": "2021-10-11T12:21:09.658Z"
   },
   {
    "duration": 503,
    "start_time": "2021-10-11T12:46:15.865Z"
   },
   {
    "duration": 75,
    "start_time": "2021-10-11T12:53:56.203Z"
   },
   {
    "duration": 51,
    "start_time": "2021-10-11T12:54:08.628Z"
   },
   {
    "duration": 54,
    "start_time": "2021-10-11T12:54:35.335Z"
   },
   {
    "duration": 51,
    "start_time": "2021-10-11T12:54:58.495Z"
   },
   {
    "duration": 496,
    "start_time": "2021-10-11T12:55:24.122Z"
   },
   {
    "duration": 475,
    "start_time": "2021-10-11T12:58:04.402Z"
   },
   {
    "duration": 472,
    "start_time": "2021-10-11T12:58:37.119Z"
   },
   {
    "duration": 498,
    "start_time": "2021-10-11T13:03:46.248Z"
   },
   {
    "duration": 624,
    "start_time": "2021-10-11T13:07:12.069Z"
   },
   {
    "duration": 1146,
    "start_time": "2021-10-11T13:13:39.435Z"
   },
   {
    "duration": 1062,
    "start_time": "2021-10-11T13:14:40.538Z"
   },
   {
    "duration": 734,
    "start_time": "2021-10-11T13:15:49.969Z"
   },
   {
    "duration": 659,
    "start_time": "2021-10-11T13:17:33.067Z"
   },
   {
    "duration": 791,
    "start_time": "2021-10-11T14:16:05.428Z"
   },
   {
    "duration": 895,
    "start_time": "2021-10-11T14:17:40.177Z"
   },
   {
    "duration": 476,
    "start_time": "2021-10-11T14:20:27.253Z"
   },
   {
    "duration": 625,
    "start_time": "2021-10-11T14:24:12.622Z"
   },
   {
    "duration": 666,
    "start_time": "2021-10-11T14:25:15.949Z"
   },
   {
    "duration": 523,
    "start_time": "2021-10-11T14:27:39.840Z"
   },
   {
    "duration": 524,
    "start_time": "2021-10-11T14:28:24.025Z"
   },
   {
    "duration": 15,
    "start_time": "2021-10-11T14:35:06.983Z"
   },
   {
    "duration": 163,
    "start_time": "2021-10-11T14:39:31.961Z"
   },
   {
    "duration": 163,
    "start_time": "2021-10-11T14:39:42.958Z"
   },
   {
    "duration": 11,
    "start_time": "2021-10-11T14:40:17.107Z"
   },
   {
    "duration": 10,
    "start_time": "2021-10-11T14:42:19.278Z"
   },
   {
    "duration": 675,
    "start_time": "2021-10-11T14:43:14.478Z"
   },
   {
    "duration": 21,
    "start_time": "2021-10-11T14:44:00.004Z"
   },
   {
    "duration": 28,
    "start_time": "2021-10-11T14:44:40.725Z"
   },
   {
    "duration": 32,
    "start_time": "2021-10-11T14:45:54.334Z"
   },
   {
    "duration": 33,
    "start_time": "2021-10-11T14:46:27.967Z"
   },
   {
    "duration": 48,
    "start_time": "2021-10-11T14:49:09.752Z"
   },
   {
    "duration": 45,
    "start_time": "2021-10-11T14:49:15.493Z"
   },
   {
    "duration": 46,
    "start_time": "2021-10-11T14:49:28.465Z"
   },
   {
    "duration": 20,
    "start_time": "2021-10-11T14:55:25.725Z"
   },
   {
    "duration": 137,
    "start_time": "2021-10-11T14:57:11.631Z"
   },
   {
    "duration": 9,
    "start_time": "2021-10-11T14:57:37.276Z"
   },
   {
    "duration": 8,
    "start_time": "2021-10-11T14:58:18.634Z"
   },
   {
    "duration": 9,
    "start_time": "2021-10-11T14:58:26.705Z"
   },
   {
    "duration": 20,
    "start_time": "2021-10-11T14:59:39.254Z"
   },
   {
    "duration": 675,
    "start_time": "2021-10-11T17:12:51.206Z"
   },
   {
    "duration": 665,
    "start_time": "2021-10-11T17:13:03.325Z"
   },
   {
    "duration": 834,
    "start_time": "2021-10-11T17:14:23.191Z"
   },
   {
    "duration": 904,
    "start_time": "2021-10-11T17:16:32.405Z"
   },
   {
    "duration": 822,
    "start_time": "2021-10-11T17:17:12.334Z"
   },
   {
    "duration": 128,
    "start_time": "2021-10-11T17:18:08.449Z"
   },
   {
    "duration": 323,
    "start_time": "2021-10-11T17:18:42.211Z"
   },
   {
    "duration": 892,
    "start_time": "2021-10-11T17:19:40.010Z"
   },
   {
    "duration": 6,
    "start_time": "2021-10-11T17:26:42.972Z"
   },
   {
    "duration": 653,
    "start_time": "2021-10-11T17:35:29.838Z"
   },
   {
    "duration": 393,
    "start_time": "2021-10-11T17:46:49.115Z"
   },
   {
    "duration": 355,
    "start_time": "2021-10-11T17:47:11.409Z"
   },
   {
    "duration": 361,
    "start_time": "2021-10-11T17:49:12.226Z"
   },
   {
    "duration": 362,
    "start_time": "2021-10-11T17:49:19.637Z"
   },
   {
    "duration": 420,
    "start_time": "2021-10-11T17:49:57.230Z"
   },
   {
    "duration": 342,
    "start_time": "2021-10-11T17:55:03.882Z"
   },
   {
    "duration": 359,
    "start_time": "2021-10-11T17:56:07.158Z"
   },
   {
    "duration": 346,
    "start_time": "2021-10-11T17:59:24.377Z"
   },
   {
    "duration": 527,
    "start_time": "2021-10-11T17:59:34.235Z"
   },
   {
    "duration": 157,
    "start_time": "2021-10-11T18:05:41.945Z"
   },
   {
    "duration": 4,
    "start_time": "2021-10-11T18:06:07.281Z"
   },
   {
    "duration": 4,
    "start_time": "2021-10-11T18:06:16.281Z"
   },
   {
    "duration": 1611,
    "start_time": "2021-10-11T18:06:25.955Z"
   },
   {
    "duration": 1465,
    "start_time": "2021-10-11T18:06:54.043Z"
   },
   {
    "duration": 1448,
    "start_time": "2021-10-11T18:08:25.754Z"
   },
   {
    "duration": 1022,
    "start_time": "2021-10-12T15:05:50.568Z"
   },
   {
    "duration": 8045,
    "start_time": "2021-10-12T15:06:56.631Z"
   },
   {
    "duration": 267,
    "start_time": "2021-10-12T15:07:21.888Z"
   },
   {
    "duration": 6,
    "start_time": "2021-10-12T15:07:31.106Z"
   },
   {
    "duration": 930,
    "start_time": "2021-10-12T15:07:36.119Z"
   },
   {
    "duration": 9,
    "start_time": "2021-10-12T15:07:39.101Z"
   },
   {
    "duration": 39,
    "start_time": "2021-10-12T15:07:42.945Z"
   },
   {
    "duration": 958,
    "start_time": "2021-10-12T15:07:57.873Z"
   },
   {
    "duration": 6,
    "start_time": "2021-10-12T15:08:01.890Z"
   },
   {
    "duration": 2064,
    "start_time": "2021-10-12T15:08:05.562Z"
   },
   {
    "duration": 41,
    "start_time": "2021-10-12T15:08:11.262Z"
   },
   {
    "duration": 1010,
    "start_time": "2021-10-12T15:13:04.094Z"
   },
   {
    "duration": 68,
    "start_time": "2021-10-12T15:13:09.857Z"
   },
   {
    "duration": 1001,
    "start_time": "2021-10-12T15:14:01.055Z"
   },
   {
    "duration": 7,
    "start_time": "2021-10-12T15:14:07.395Z"
   },
   {
    "duration": 44,
    "start_time": "2021-10-12T15:14:15.130Z"
   },
   {
    "duration": 5,
    "start_time": "2021-10-12T15:14:24.546Z"
   },
   {
    "duration": 5,
    "start_time": "2021-10-12T15:14:36.183Z"
   },
   {
    "duration": 6,
    "start_time": "2021-10-12T15:15:01.698Z"
   },
   {
    "duration": 6,
    "start_time": "2021-10-12T15:15:14.905Z"
   },
   {
    "duration": 2067,
    "start_time": "2021-10-12T15:17:36.667Z"
   },
   {
    "duration": 28,
    "start_time": "2021-10-12T15:21:42.153Z"
   },
   {
    "duration": 6,
    "start_time": "2021-10-12T15:21:45.726Z"
   },
   {
    "duration": 6,
    "start_time": "2021-10-12T15:23:23.469Z"
   },
   {
    "duration": 6,
    "start_time": "2021-10-12T15:23:56.598Z"
   },
   {
    "duration": 3253,
    "start_time": "2021-10-12T15:23:58.621Z"
   },
   {
    "duration": 86,
    "start_time": "2021-10-12T15:24:31.505Z"
   },
   {
    "duration": 7,
    "start_time": "2021-10-12T15:27:02.856Z"
   },
   {
    "duration": 5,
    "start_time": "2021-10-12T15:28:01.458Z"
   },
   {
    "duration": 6,
    "start_time": "2021-10-12T15:28:22.540Z"
   },
   {
    "duration": 14,
    "start_time": "2021-10-12T15:28:33.380Z"
   },
   {
    "duration": 35,
    "start_time": "2021-10-12T15:29:55.451Z"
   },
   {
    "duration": 6,
    "start_time": "2021-10-12T15:30:00.376Z"
   },
   {
    "duration": 6,
    "start_time": "2021-10-12T15:33:27.708Z"
   },
   {
    "duration": 5,
    "start_time": "2021-10-12T15:33:50.697Z"
   },
   {
    "duration": 2977,
    "start_time": "2021-10-12T15:34:12.792Z"
   },
   {
    "duration": 38,
    "start_time": "2021-10-12T15:34:27.678Z"
   },
   {
    "duration": 30,
    "start_time": "2021-10-12T15:34:49.092Z"
   },
   {
    "duration": 5,
    "start_time": "2021-10-12T15:42:03.013Z"
   },
   {
    "duration": 303,
    "start_time": "2021-10-12T15:52:24.505Z"
   },
   {
    "duration": 11,
    "start_time": "2021-10-12T15:53:33.686Z"
   },
   {
    "duration": 6,
    "start_time": "2021-10-12T15:54:20.184Z"
   },
   {
    "duration": 3084,
    "start_time": "2021-10-12T15:54:27.259Z"
   },
   {
    "duration": 31,
    "start_time": "2021-10-12T16:31:24.884Z"
   },
   {
    "duration": 56,
    "start_time": "2021-10-12T17:07:57.127Z"
   },
   {
    "duration": 52,
    "start_time": "2021-10-12T17:08:03.514Z"
   },
   {
    "duration": 51,
    "start_time": "2021-10-12T17:09:36.881Z"
   },
   {
    "duration": 304,
    "start_time": "2021-10-12T17:10:01.521Z"
   },
   {
    "duration": 53,
    "start_time": "2021-10-12T17:10:08.965Z"
   },
   {
    "duration": 309,
    "start_time": "2021-10-12T17:13:57.637Z"
   },
   {
    "duration": 740,
    "start_time": "2021-10-12T17:14:30.313Z"
   },
   {
    "duration": 294,
    "start_time": "2021-10-12T17:17:52.007Z"
   },
   {
    "duration": 300,
    "start_time": "2021-10-12T17:18:12.510Z"
   },
   {
    "duration": 30,
    "start_time": "2021-10-12T17:18:19.538Z"
   },
   {
    "duration": 44,
    "start_time": "2021-10-12T17:33:32.683Z"
   },
   {
    "duration": 47,
    "start_time": "2021-10-12T17:33:50.361Z"
   },
   {
    "duration": 310,
    "start_time": "2021-10-12T17:34:29.793Z"
   },
   {
    "duration": 61,
    "start_time": "2021-10-12T17:34:40.471Z"
   },
   {
    "duration": 952,
    "start_time": "2021-10-13T06:49:59.996Z"
   },
   {
    "duration": 39,
    "start_time": "2021-10-13T06:50:00.951Z"
   },
   {
    "duration": 21,
    "start_time": "2021-10-13T06:50:00.994Z"
   },
   {
    "duration": 9,
    "start_time": "2021-10-13T06:50:01.018Z"
   },
   {
    "duration": 964,
    "start_time": "2021-10-13T06:50:01.030Z"
   },
   {
    "duration": 91,
    "start_time": "2021-10-13T06:50:01.997Z"
   },
   {
    "duration": 30,
    "start_time": "2021-10-13T06:50:02.091Z"
   },
   {
    "duration": 26,
    "start_time": "2021-10-13T06:50:02.127Z"
   },
   {
    "duration": 537,
    "start_time": "2021-10-13T06:50:02.156Z"
   },
   {
    "duration": 56,
    "start_time": "2021-10-13T06:50:02.695Z"
   },
   {
    "duration": 31,
    "start_time": "2021-10-13T06:50:02.754Z"
   },
   {
    "duration": 7,
    "start_time": "2021-10-13T06:50:02.788Z"
   },
   {
    "duration": 11,
    "start_time": "2021-10-13T06:50:02.798Z"
   },
   {
    "duration": 3809,
    "start_time": "2021-10-13T06:50:02.811Z"
   },
   {
    "duration": 80,
    "start_time": "2021-10-13T06:50:06.623Z"
   },
   {
    "duration": 191,
    "start_time": "2021-10-13T06:50:06.706Z"
   },
   {
    "duration": 92,
    "start_time": "2021-10-13T06:50:06.900Z"
   }
  ],
  "kernelspec": {
   "display_name": "Python 3",
   "language": "python",
   "name": "python3"
  },
  "language_info": {
   "codemirror_mode": {
    "name": "ipython",
    "version": 3
   },
   "file_extension": ".py",
   "mimetype": "text/x-python",
   "name": "python",
   "nbconvert_exporter": "python",
   "pygments_lexer": "ipython3",
   "version": "3.8.8"
  },
  "toc": {
   "base_numbering": 1,
   "nav_menu": {},
   "number_sections": true,
   "sideBar": true,
   "skip_h1_title": true,
   "title_cell": "Table of Contents",
   "title_sidebar": "Contents",
   "toc_cell": false,
   "toc_position": {},
   "toc_section_display": true,
   "toc_window_display": false
  }
 },
 "nbformat": 4,
 "nbformat_minor": 2
}
